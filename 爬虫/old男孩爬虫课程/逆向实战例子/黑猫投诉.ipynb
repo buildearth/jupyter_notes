{
 "cells": [
  {
   "cell_type": "markdown",
   "metadata": {},
   "source": [
    "网址:https://tousu.sina.com.cn/company/index"
   ]
  },
  {
   "cell_type": "markdown",
   "metadata": {},
   "source": [
    "需求:爬取所有商家的信息"
   ]
  },
  {
   "cell_type": "markdown",
   "metadata": {},
   "source": []
  },
  {
   "cell_type": "code",
   "execution_count": 12,
   "metadata": {},
   "outputs": [
    {
     "name": "stdout",
     "output_type": "stream",
     "text": [
      "try{jQuery1112021535230188732601_1655628671663({\"result\":{\"status\":{\"code\":0,\"msg\":\"ok\"},\"timestamp\":\"Sun Jun 19 17:13:41 +0800 2022\",\"data\":{\"lists\":[{\"uid\":\"5650743478\",\"title\":\"\\u4eac\\u4e1c\",\"avatar\":\"\\/\\/tvax1.sinaimg.cn\\/crop.0.5.194.194.180\\/006apWvQly8gditedzl8gj305k05kwef.jpg?KID=imgbed,tva&Expires=1655637202&ssig=%2B7G4Mg%2Btaw\",\"eval_points\":4,\"valid_amt\":\"318213\",\"replied_amt\":\"318213\",\"completed_amt\":\"215233\",\"valid30d\":\"29793\",\"reply30d\":\"29793\",\"complete30d\":\"7083\",\"url\":\"\\/\\/tousu.sina.com.cn\\/company\\/view\\/?couid=5650743478\",\"pzxfmember\":\"0\",\"bkrpt\":\"0\",\"is_virtual\":\"0\",\"is_anchor\":\"0\",\"orig_title\":\"\\u4eac\\u4e1c\\u5ba2\\u670d\",\"sugg\":\"1\"},{\"uid\":\"6244211375\",\"title\":\"\\u62fc\\u591a\\u591a\",\"avatar\":\"\\/\\/tvax4.sinaimg.cn\\/crop.0.0.1024.1024.180\\/006OA4CHly8gdiiphl5zbj30sg0sgwgu.jpg?KID=imgbed,tva&Expires=1655636216&ssig=%2Frfw6HlY2V\",\"eval_points\":3,\"valid_amt\":\"506415\",\"replied_amt\":\"93600\",\"completed_amt\":\"69697\",\"valid30d\":\"26079\",\"reply30d\":\"501\",\"complete30d\":\"239\",\"url\":\"\\/\\/tousu.sina.com.cn\\/company\\/view\\/?couid=6244211375\",\"pzxfmember\":\"0\",\"bkrpt\":\"0\",\"is_virtual\":\"0\",\"is_anchor\":\"0\",\"orig_title\":\"\\u62fc\\u591a\\u591a\\u5ba2\\u6237\\u670d\\u52a1\",\"sugg\":\"1\"},{\"uid\":\"1878960481\",\"title\":\"\\u6dd8\\u5b9d\",\"avatar\":\"\\/\\/tvax3.sinaimg.cn\\/crop.22.0.374.374.180\\/6ffea961ly1gdju3dizd7j20bn0aedj9.jpg?KID=imgbed,tva&Expires=1655634226&ssig=7J59QVfrQq\",\"eval_points\":3,\"valid_amt\":\"355399\",\"replied_amt\":\"5680\",\"completed_amt\":\"4229\",\"valid30d\":\"18166\",\"reply30d\":\"156\",\"complete30d\":\"156\",\"url\":\"\\/\\/tousu.sina.com.cn\\/company\\/view\\/?couid=1878960481\",\"pzxfmember\":\"0\",\"bkrpt\":\"0\",\"is_virtual\":\"0\",\"is_anchor\":\"0\",\"orig_title\":\"\\u963f\\u91cc\\u5ba2\\u670d\",\"sugg\":\"1\"},{\"uid\":\"6020086612\",\"title\":\"\\u6296\\u97f3\",\"avatar\":\"\\/\\/tvax2.sinaimg.cn\\/crop.0.0.690.690.180\\/006zpFxaly8gdi6j9n49zj30j60j6jrq.jpg?KID=imgbed,tva&Expires=1655638562&ssig=GpoiUwYozb\",\"eval_points\":3,\"valid_amt\":\"118412\",\"replied_amt\":\"103407\",\"completed_amt\":\"75898\",\"valid30d\":\"10167\",\"reply30d\":\"7863\",\"complete30d\":\"3200\",\"url\":\"\\/\\/tousu.sina.com.cn\\/company\\/view\\/?couid=6020086612\",\"pzxfmember\":\"0\",\"bkrpt\":\"0\",\"is_virtual\":\"0\",\"is_anchor\":\"0\",\"orig_title\":\"\\u6296\\u97f3\",\"sugg\":\"1\"},{\"uid\":\"2462652792\",\"title\":\"\\u4e2d\\u56fd\\u8054\\u901a\",\"avatar\":\"\\/\\/tvax1.sinaimg.cn\\/crop.0.0.720.720.180\\/002GF2ukly8gmn0sika7bj60k00k0q4f02.jpg?KID=imgbed,tva&Expires=1655636296&ssig=Cs4oIAp22T\",\"eval_points\":4,\"valid_amt\":\"207538\",\"replied_amt\":\"207456\",\"completed_amt\":\"194387\",\"valid30d\":\"7987\",\"reply30d\":\"7915\",\"complete30d\":\"1905\",\"url\":\"\\/\\/tousu.sina.com.cn\\/company\\/view\\/?couid=2462652792\",\"pzxfmember\":\"1\",\"bkrpt\":\"0\",\"is_virtual\":\"0\",\"is_anchor\":\"0\",\"orig_title\":\"\\u4e2d\\u56fd\\u8054\\u901a\\u5ba2\\u670d\",\"sugg\":\"1\"},{\"uid\":\"7046706808\",\"title\":\"\\u5f97\\u7269\",\"avatar\":\"\\/\\/tvax4.sinaimg.cn\\/crop.0.0.512.512.180\\/007GTglqly8gaii2x9hkej30e80e8mxc.jpg?KID=imgbed,tva&Expires=1655638059&ssig=aEK8mQahln\",\"eval_points\":4,\"valid_amt\":\"154437\",\"replied_amt\":\"154423\",\"completed_amt\":\"120517\",\"valid30d\":\"7195\",\"reply30d\":\"7195\",\"complete30d\":\"300\",\"url\":\"\\/\\/tousu.sina.com.cn\\/company\\/view\\/?couid=7046706808\",\"pzxfmember\":\"0\",\"bkrpt\":\"0\",\"is_virtual\":\"0\",\"is_anchor\":\"0\",\"orig_title\":\"\\u5f97\\u7269App\\u5c0f\\u52a9\\u624b\",\"sugg\":\"1\"},{\"uid\":\"2092643773\",\"title\":\"\\u7f8e\\u56e2\",\"avatar\":\"\\/\\/tvax2.sinaimg.cn\\/crop.6.0.190.190.180\\/7cbb35bdly8gmvmvzg0klj205k05kq3t.jpg?KID=imgbed,tva&Expires=1655639025&ssig=ZLlrq%2F7y%2BW\",\"eval_points\":4,\"valid_amt\":\"157596\",\"replied_amt\":\"157595\",\"completed_amt\":\"115476\",\"valid30d\":\"6852\",\"reply30d\":\"6852\",\"complete30d\":\"1386\",\"url\":\"\\/\\/tousu.sina.com.cn\\/company\\/view\\/?couid=2092643773\",\"pzxfmember\":\"0\",\"bkrpt\":\"0\",\"is_virtual\":\"0\",\"is_anchor\":\"0\",\"orig_title\":\"\\u7f8e\\u56e2\\u5ba2\\u670d\\u5c0f\\u7f8e\",\"sugg\":\"1\"},{\"uid\":\"1991428685\",\"title\":\"\\u4e2d\\u56fd\\u79fb\\u52a8\",\"avatar\":\"\\/\\/tvax3.sinaimg.cn\\/crop.0.0.512.512.180\\/002aLPzvly8gqwt8jfa3ij60e80e8t9002.jpg?KID=imgbed,tva&Expires=1655636700&ssig=BtbyTBGNKP\",\"eval_points\":4,\"valid_amt\":\"235216\",\"replied_amt\":\"235216\",\"completed_amt\":\"198334\",\"valid30d\":\"6784\",\"reply30d\":\"6784\",\"complete30d\":\"983\",\"url\":\"\\/\\/tousu.sina.com.cn\\/company\\/view\\/?couid=1991428685\",\"pzxfmember\":\"1\",\"bkrpt\":\"0\",\"is_virtual\":\"0\",\"is_anchor\":\"0\",\"orig_title\":\"\\u4e2d\\u56fd\\u79fb\\u52a810086\",\"sugg\":\"1\"},{\"uid\":\"7398491145\",\"title\":\"\\u5f00\\u5e97\\u5b9d\",\"avatar\":\"\\/\\/tvax4.sinaimg.cn\\/crop.0.0.512.512.180\\/0084Hjwlly8gc7lkx63fuj30e80e874e.jpg?KID=imgbed,tva&Expires=1655640264&ssig=kQPPv%2BPI%2FQ\",\"eval_points\":3,\"valid_amt\":\"29849\",\"replied_amt\":\"26024\",\"completed_amt\":\"15818\",\"valid30d\":\"6754\",\"reply30d\":\"3250\",\"complete30d\":\"301\",\"url\":\"\\/\\/tousu.sina.com.cn\\/company\\/view\\/?couid=7398491145\",\"pzxfmember\":\"0\",\"bkrpt\":\"0\",\"is_virtual\":\"0\",\"is_anchor\":\"0\",\"orig_title\":\"\\u5f00\\u5e97\\u5b9d\",\"sugg\":\"1\"},{\"uid\":\"6756505772\",\"title\":\"\\u4eac\\u4e1c\\u7269\\u6d41\",\"avatar\":\"\\/\\/tvax4.sinaimg.cn\\/crop.7.8.184.184.180\\/007nfBNyly8ghw1kau4h3j305k05kdg5.jpg?KID=imgbed,tva&Expires=1655639866&ssig=BVm8SZsq2j\",\"eval_points\":4,\"valid_amt\":\"43868\",\"replied_amt\":\"43867\",\"completed_amt\":\"30664\",\"valid30d\":\"6368\",\"reply30d\":\"6367\",\"complete30d\":\"1074\",\"url\":\"\\/\\/tousu.sina.com.cn\\/company\\/view\\/?couid=6756505772\",\"pzxfmember\":\"0\",\"bkrpt\":\"0\",\"is_virtual\":\"0\",\"is_anchor\":\"0\",\"orig_title\":\"\\u4eac\\u4e1c\\u7269\\u6d41\\u5ba2\\u670d\",\"sugg\":\"1\"}],\"pager\":{\"current\":1,\"next\":2,\"page_amount\":1563,\"page_size\":10,\"item_count\":15625}}}});}catch(e){};\n"
     ]
    }
   ],
   "source": [
    "import requests\n",
    "import time\n",
    "import re\n",
    "import json\n",
    "\n",
    "headers = {\n",
    "    \"User-Agent\": \"Mozilla/5.0 (Windows NT 10.0; Win64; x64) AppleWebKit/537.36 (KHTML, like Gecko) Chrome/102.0.0.0 Safari/537.36\",\n",
    "}\n",
    "\n",
    "callback_name = \"jQuery1112021535230188732601_1655628671663\"\n",
    "data = {\n",
    "    \"callback\": callback_name,\n",
    "    \"sort_col\": \"4\",\n",
    "    \"sort_ord\": \"2\",\n",
    "    \"page_size\": 10,\n",
    "    \"page\": 1,\n",
    "    \"_\": int(time.time()*1000),\n",
    "}\n",
    "\n",
    "url = 'https://tousu.sina.com.cn/api/company/main_search'\n",
    "resp = requests.get(url=url, params=data, headers=headers)\n",
    "print(resp.text)"
   ]
  },
  {
   "cell_type": "code",
   "execution_count": 21,
   "metadata": {},
   "outputs": [
    {
     "name": "stdout",
     "output_type": "stream",
     "text": [
      "{'current': 1, 'next': 2, 'page_amount': 1563, 'page_size': 10, 'item_count': 15625}\n",
      "{'uid': '5650743478', 'title': '京东', 'avatar': '//tvax1.sinaimg.cn/crop.0.5.194.194.180/006apWvQly8gditedzl8gj305k05kwef.jpg?KID=imgbed,tva&Expires=1655637202&ssig=%2B7G4Mg%2Btaw', 'eval_points': 4, 'valid_amt': '318213', 'replied_amt': '318213', 'completed_amt': '215233', 'valid30d': '29793', 'reply30d': '29793', 'complete30d': '7083', 'url': '//tousu.sina.com.cn/company/view/?couid=5650743478', 'pzxfmember': '0', 'bkrpt': '0', 'is_virtual': '0', 'is_anchor': '0', 'orig_title': '京东客服', 'sugg': '1'}\n",
      "{'uid': '6244211375', 'title': '拼多多', 'avatar': '//tvax4.sinaimg.cn/crop.0.0.1024.1024.180/006OA4CHly8gdiiphl5zbj30sg0sgwgu.jpg?KID=imgbed,tva&Expires=1655636216&ssig=%2Frfw6HlY2V', 'eval_points': 3, 'valid_amt': '506415', 'replied_amt': '93600', 'completed_amt': '69697', 'valid30d': '26079', 'reply30d': '501', 'complete30d': '239', 'url': '//tousu.sina.com.cn/company/view/?couid=6244211375', 'pzxfmember': '0', 'bkrpt': '0', 'is_virtual': '0', 'is_anchor': '0', 'orig_title': '拼多多客户服务', 'sugg': '1'}\n",
      "{'uid': '1878960481', 'title': '淘宝', 'avatar': '//tvax3.sinaimg.cn/crop.22.0.374.374.180/6ffea961ly1gdju3dizd7j20bn0aedj9.jpg?KID=imgbed,tva&Expires=1655634226&ssig=7J59QVfrQq', 'eval_points': 3, 'valid_amt': '355399', 'replied_amt': '5680', 'completed_amt': '4229', 'valid30d': '18166', 'reply30d': '156', 'complete30d': '156', 'url': '//tousu.sina.com.cn/company/view/?couid=1878960481', 'pzxfmember': '0', 'bkrpt': '0', 'is_virtual': '0', 'is_anchor': '0', 'orig_title': '阿里客服', 'sugg': '1'}\n",
      "{'uid': '6020086612', 'title': '抖音', 'avatar': '//tvax2.sinaimg.cn/crop.0.0.690.690.180/006zpFxaly8gdi6j9n49zj30j60j6jrq.jpg?KID=imgbed,tva&Expires=1655638562&ssig=GpoiUwYozb', 'eval_points': 3, 'valid_amt': '118412', 'replied_amt': '103407', 'completed_amt': '75898', 'valid30d': '10167', 'reply30d': '7863', 'complete30d': '3200', 'url': '//tousu.sina.com.cn/company/view/?couid=6020086612', 'pzxfmember': '0', 'bkrpt': '0', 'is_virtual': '0', 'is_anchor': '0', 'orig_title': '抖音', 'sugg': '1'}\n",
      "{'uid': '2462652792', 'title': '中国联通', 'avatar': '//tvax1.sinaimg.cn/crop.0.0.720.720.180/002GF2ukly8gmn0sika7bj60k00k0q4f02.jpg?KID=imgbed,tva&Expires=1655636296&ssig=Cs4oIAp22T', 'eval_points': 4, 'valid_amt': '207538', 'replied_amt': '207456', 'completed_amt': '194387', 'valid30d': '7987', 'reply30d': '7915', 'complete30d': '1905', 'url': '//tousu.sina.com.cn/company/view/?couid=2462652792', 'pzxfmember': '1', 'bkrpt': '0', 'is_virtual': '0', 'is_anchor': '0', 'orig_title': '中国联通客服', 'sugg': '1'}\n",
      "{'uid': '7046706808', 'title': '得物', 'avatar': '//tvax4.sinaimg.cn/crop.0.0.512.512.180/007GTglqly8gaii2x9hkej30e80e8mxc.jpg?KID=imgbed,tva&Expires=1655638059&ssig=aEK8mQahln', 'eval_points': 4, 'valid_amt': '154437', 'replied_amt': '154423', 'completed_amt': '120517', 'valid30d': '7195', 'reply30d': '7195', 'complete30d': '300', 'url': '//tousu.sina.com.cn/company/view/?couid=7046706808', 'pzxfmember': '0', 'bkrpt': '0', 'is_virtual': '0', 'is_anchor': '0', 'orig_title': '得物App小助手', 'sugg': '1'}\n",
      "{'uid': '2092643773', 'title': '美团', 'avatar': '//tvax2.sinaimg.cn/crop.6.0.190.190.180/7cbb35bdly8gmvmvzg0klj205k05kq3t.jpg?KID=imgbed,tva&Expires=1655639025&ssig=ZLlrq%2F7y%2BW', 'eval_points': 4, 'valid_amt': '157596', 'replied_amt': '157595', 'completed_amt': '115476', 'valid30d': '6852', 'reply30d': '6852', 'complete30d': '1386', 'url': '//tousu.sina.com.cn/company/view/?couid=2092643773', 'pzxfmember': '0', 'bkrpt': '0', 'is_virtual': '0', 'is_anchor': '0', 'orig_title': '美团客服小美', 'sugg': '1'}\n",
      "{'uid': '1991428685', 'title': '中国移动', 'avatar': '//tvax3.sinaimg.cn/crop.0.0.512.512.180/002aLPzvly8gqwt8jfa3ij60e80e8t9002.jpg?KID=imgbed,tva&Expires=1655636700&ssig=BtbyTBGNKP', 'eval_points': 4, 'valid_amt': '235216', 'replied_amt': '235216', 'completed_amt': '198334', 'valid30d': '6784', 'reply30d': '6784', 'complete30d': '983', 'url': '//tousu.sina.com.cn/company/view/?couid=1991428685', 'pzxfmember': '1', 'bkrpt': '0', 'is_virtual': '0', 'is_anchor': '0', 'orig_title': '中国移动10086', 'sugg': '1'}\n",
      "{'uid': '7398491145', 'title': '开店宝', 'avatar': '//tvax4.sinaimg.cn/crop.0.0.512.512.180/0084Hjwlly8gc7lkx63fuj30e80e874e.jpg?KID=imgbed,tva&Expires=1655640264&ssig=kQPPv%2BPI%2FQ', 'eval_points': 3, 'valid_amt': '29849', 'replied_amt': '26024', 'completed_amt': '15818', 'valid30d': '6754', 'reply30d': '3250', 'complete30d': '301', 'url': '//tousu.sina.com.cn/company/view/?couid=7398491145', 'pzxfmember': '0', 'bkrpt': '0', 'is_virtual': '0', 'is_anchor': '0', 'orig_title': '开店宝', 'sugg': '1'}\n",
      "{'uid': '6756505772', 'title': '京东物流', 'avatar': '//tvax4.sinaimg.cn/crop.7.8.184.184.180/007nfBNyly8ghw1kau4h3j305k05kdg5.jpg?KID=imgbed,tva&Expires=1655639866&ssig=BVm8SZsq2j', 'eval_points': 4, 'valid_amt': '43868', 'replied_amt': '43867', 'completed_amt': '30664', 'valid30d': '6368', 'reply30d': '6367', 'complete30d': '1074', 'url': '//tousu.sina.com.cn/company/view/?couid=6756505772', 'pzxfmember': '0', 'bkrpt': '0', 'is_virtual': '0', 'is_anchor': '0', 'orig_title': '京东物流客服', 'sugg': '1'}\n"
     ]
    }
   ],
   "source": [
    "data_re = re.compile(f'{callback_name}\\((.*)\\);')\n",
    "a = re.findall(data_re, resp.text)\n",
    "data_json = json.loads(a[0])\n",
    "# print(data_json)\n",
    "\n",
    "page_info = data_json['result']['data']['pager']\n",
    "print(page_info)\n",
    "\n",
    "for d in data_json['result']['data']['lists']:\n",
    "    print(d)"
   ]
  }
 ],
 "metadata": {
  "kernelspec": {
   "display_name": "Python 3",
   "language": "python",
   "name": "python3"
  },
  "language_info": {
   "codemirror_mode": {
    "name": "ipython",
    "version": 3
   },
   "file_extension": ".py",
   "mimetype": "text/x-python",
   "name": "python",
   "nbconvert_exporter": "python",
   "pygments_lexer": "ipython3",
   "version": "3.8.5"
  }
 },
 "nbformat": 4,
 "nbformat_minor": 4
}
