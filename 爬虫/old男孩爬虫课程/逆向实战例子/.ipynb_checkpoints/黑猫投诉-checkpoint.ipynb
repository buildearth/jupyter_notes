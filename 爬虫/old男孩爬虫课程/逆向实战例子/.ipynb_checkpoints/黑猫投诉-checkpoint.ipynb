{
 "cells": [
  {
   "cell_type": "markdown",
   "metadata": {},
   "source": [
    "网址:https://tousu.sina.com.cn/company/index"
   ]
  },
  {
   "cell_type": "markdown",
   "metadata": {},
   "source": [
    "需求:爬取所有商家的信息"
   ]
  },
  {
   "cell_type": "markdown",
   "metadata": {},
   "source": []
  },
  {
   "cell_type": "code",
   "execution_count": 4,
   "metadata": {},
   "outputs": [],
   "source": [
    "import requests\n",
    "import time\n",
    "\n",
    "headers = {\n",
    "    \"User-Agent\": \"Mozilla/5.0 (Windows NT 10.0; Win64; x64) AppleWebKit/537.36 (KHTML, like Gecko) Chrome/102.0.0.0 Safari/537.36\",\n",
    "}\n",
    "\n",
    "callback_name = \"jQuery1112021535230188732601_1655628671663\"\n",
    "data = {\n",
    "    \"callback\": callback_name,\n",
    "    \"sort_col\": \"4\",\n",
    "    \"sort_ord\": \"2\",\n",
    "    \"page_size\": 10,\n",
    "    \"page\": 1,\n",
    "    \"_\": int(time.time()*1000),\n",
    "}\n",
    "\n",
    "url = 'https://tousu.sina.com.cn/api/company/main_search'\n",
    "resp = requests.get(url=url, params=data, headers=headers)\n",
    "print(resp.text)"
   ]
  },
  {
   "cell_type": "code",
   "execution_count": 5,
   "metadata": {},
   "outputs": [
    {
     "name": "stdout",
     "output_type": "stream",
     "text": [
      "try{jQuery1112021535230188732601_1655628671663({\"result\":{\"status\":{\"code\":11,\"msg\":\"sorry to you for this page\"},\"timestamp\":\"Sun Jun 19 17:01:12 +0800 2022\",\"data\":[]}});}catch(e){};\n"
     ]
    }
   ],
   "source": []
  }
 ],
 "metadata": {
  "kernelspec": {
   "display_name": "Python 3",
   "language": "python",
   "name": "python3"
  },
  "language_info": {
   "codemirror_mode": {
    "name": "ipython",
    "version": 3
   },
   "file_extension": ".py",
   "mimetype": "text/x-python",
   "name": "python",
   "nbconvert_exporter": "python",
   "pygments_lexer": "ipython3",
   "version": "3.8.5"
  }
 },
 "nbformat": 4,
 "nbformat_minor": 4
}
