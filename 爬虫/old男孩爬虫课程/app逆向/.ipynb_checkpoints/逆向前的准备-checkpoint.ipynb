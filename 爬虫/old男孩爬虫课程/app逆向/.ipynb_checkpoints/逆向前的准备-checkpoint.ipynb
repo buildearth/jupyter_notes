{
 "cells": [
  {
   "cell_type": "markdown",
   "metadata": {},
   "source": [
    "# 手机"
   ]
  },
  {
   "cell_type": "markdown",
   "metadata": {},
   "source": [
    "我选择的是红米a8手机。"
   ]
  },
  {
   "cell_type": "markdown",
   "metadata": {},
   "source": [
    "解锁教程：http://m.rom.7to.cn/jiaochengdetail/16844\n"
   ]
  },
  {
   "cell_type": "markdown",
   "metadata": {},
   "source": [
    "# 解锁BL"
   ]
  },
  {
   "cell_type": "markdown",
   "metadata": {},
   "source": [
    "手机必须插上手机卡，进行绑定，在手机上绑定设备后，需要等待七天，因为现在去解锁的话会显示：\n",
    "    设备绑定时间太短，需要七天。\n",
    "    \n",
    "解锁工具的位置：F:\\红米8a_root\\miflash_unlock-6.5.406.31"
   ]
  }
 ],
 "metadata": {
  "kernelspec": {
   "display_name": "Python 3",
   "language": "python",
   "name": "python3"
  },
  "language_info": {
   "codemirror_mode": {
    "name": "ipython",
    "version": 3
   },
   "file_extension": ".py",
   "mimetype": "text/x-python",
   "name": "python",
   "nbconvert_exporter": "python",
   "pygments_lexer": "ipython3",
   "version": "3.8.5"
  }
 },
 "nbformat": 4,
 "nbformat_minor": 4
}
