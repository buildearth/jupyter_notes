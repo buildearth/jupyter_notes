{
 "cells": [
  {
   "cell_type": "markdown",
   "metadata": {},
   "source": [
    "# 线程池爬中国票房"
   ]
  },
  {
   "cell_type": "markdown",
   "metadata": {},
   "source": [
    "网址：http://www.boxofficecn.com/boxofficecn\n",
    "\n",
    "多个线程同时爬取，将不同年份的电影信息保存到不同的文件中。"
   ]
  },
  {
   "cell_type": "markdown",
   "metadata": {},
   "source": [
    "一般场景下多线程多进程使用的不多，主要是在图片视频资源下载的时候使用。"
   ]
  },
  {
   "cell_type": "markdown",
   "metadata": {},
   "source": [
    "```python\n",
    "import time\n",
    "\n",
    "import requests\n",
    "from lxml import etree\n",
    "from concurrent.futures import ThreadPoolExecutor\n",
    "\n",
    "\n",
    "def str_tools(str_list):\n",
    "    if str_list:\n",
    "        text = \"\".join(str_list).strip()\n",
    "        return text\n",
    "    else:\n",
    "        return \"\"\n",
    "\n",
    "\n",
    "def get_movie_info(year):\n",
    "    f = open(f'{year}.csv', mode='w', encoding='utf-8')  # open打开的文件是线程安全的，多个线程可以同时使用，print打印到控制台不是线程安全的。\n",
    "    url = f'http://www.boxofficecn.com/boxoffice{year}'\n",
    "    headers = {\n",
    "        \"User-Agent\": \"Mozilla/5.0 (Windows NT 10.0; Win64; x64) AppleWebKit/537.36 (KHTML, like Gecko)\"\n",
    "                      \" Chrome/100.0.4896.75 Safari/537.36\"\n",
    "    }\n",
    "\n",
    "    resp = requests.get(url, headers=headers)\n",
    "\n",
    "    tree = etree.HTML(resp.text)\n",
    "\n",
    "    trs = tree.xpath(\"//table/tbody/tr\")[1:]\n",
    "    print(year, trs)\n",
    "\n",
    "    for tr in trs:\n",
    "        num = tr.xpath('./td[1]//text()')  # 返回的是一个字符串列表\n",
    "        year = tr.xpath('./td[2]//text()')\n",
    "        name = tr.xpath('./td[3]//text()')\n",
    "        money = tr.xpath('./td[4]//text()')\n",
    "\n",
    "        num = str_tools(num)\n",
    "        year = str_tools(year)\n",
    "        name = str_tools(name)\n",
    "        money = str_tools(money)\n",
    "\n",
    "        f.write(f'{num},{year},{name},{money}\\n')\n",
    "    f.close()\n",
    "\n",
    "\n",
    "if __name__ == '__main__':\n",
    "    s1 = time.time()\n",
    "    with ThreadPoolExecutor(16) as t:\n",
    "        for i in range(1994, 2023):\n",
    "            t.submit(get_movie_info, i)\n",
    "            time.sleep(1)  # 访问网站的频率太快可能会被反爬检测，返回空数据。 网址会限制访问频率\n",
    "    s2 = time.time()\n",
    "\n",
    "    print(\"total time :\", s2-s1)  # 多线程下载图片视频资源，所耗时间会显著提升\n",
    "\n",
    "    \"\"\"\n",
    "    下来看下，课件中保存到一个文件中的代码\n",
    "    \"\"\"\n",
    "\n",
    "```"
   ]
  },
  {
   "cell_type": "markdown",
   "metadata": {},
   "source": [
    "# 斗图网爬取"
   ]
  },
  {
   "cell_type": "markdown",
   "metadata": {},
   "source": [
    "网址：https://www.pkdoutu.com/photo/list/\n",
    "\n",
    "这个网站使用的是懒加载图片，先预设一张默认的图片，在访问网页时，放的是默认图片，在下拉的过程中把需要看到的图进行加载，替换默认图片。"
   ]
  },
  {
   "attachments": {
    "image.png": {
     "image/png": "[encoded data removed]"
    }
   },
   "cell_type": "markdown",
   "metadata": {},
   "source": [
    "![image.png](attachment:image.png)"
   ]
  },
  {
   "cell_type": "markdown",
   "metadata": {},
   "source": [
    "此时页面源代码的img的src属性就不是真正的数据，真正的图片资源在data-original属性中。"
   ]
  },
  {
   "cell_type": "markdown",
   "metadata": {},
   "source": [
    "## 爬取思路"
   ]
  },
  {
   "cell_type": "markdown",
   "metadata": {},
   "source": [
    "1. 拿到网页源代码\n",
    "2. 提取data_original\n",
    "3. 下载图片\n",
    "\n",
    "\n",
    "在写的时候，先考虑一页的数据怎么抓取。"
   ]
  },
  {
   "cell_type": "markdown",
   "metadata": {},
   "source": [
    "## 一页上的数据下载"
   ]
  },
  {
   "cell_type": "code",
   "execution_count": null,
   "metadata": {},
   "outputs": [],
   "source": [
    "import requests\n",
    "from lxml import etree\n",
    "\n",
    "headers = {\n",
    "        \"User-Agent\": \"Mozilla/5.0 (Windows NT 10.0; Win64; x64) AppleWebKit/537.36 (KHTML, like Gecko) \"\n",
    "                      \"Chrome/100.0.4896.75 Safari/537.36\"\n",
    "    }\n",
    "\n",
    "\n",
    "def get_img_url():\n",
    "    url = 'https://www.pkdoutu.com/photo/list/?page=1'\n",
    "    resp = requests.get(url, headers=headers)\n",
    "\n",
    "    tree = etree.HTML(resp.text)\n",
    "    img_url = tree.xpath('//li[@class=\"list-group-item\"]//img/@data-original')  # //img是什么意思？\n",
    "    for img in img_url:\n",
    "        print(\"下载一张图片\")\n",
    "        download_url(img)\n",
    "\n",
    "\n",
    "def download_url(url):\n",
    "    file_name = url.split('/')[-1]\n",
    "    resp = requests.get(url, headers=headers)\n",
    "    with open(f'./img/{file_name}', mode='wb') as f:\n",
    "        f.write(resp.content)\n",
    "\n",
    "\n",
    "if __name__ == '__main__':\n",
    "    get_img_url()"
   ]
  },
  {
   "cell_type": "markdown",
   "metadata": {},
   "source": [
    "## 单线程爬取"
   ]
  },
  {
   "cell_type": "markdown",
   "metadata": {},
   "source": [
    "1. 获取一页的所有图片链接\n",
    "2. 将这一页获取的到图片链接保存到本地\n",
    "3. 再去获取下一页，重复步骤1，2\n",
    "\n",
    "这样的速度很慢，其原因如下：\n",
    "    \n",
    "    - 当下载的时候获取页面链接的功能是等待的；\n",
    "    - 当获取页面链接时，下载功能是等待的；\n",
    "    - 只有一条线执行\n",
    "    "
   ]
  },
  {
   "cell_type": "markdown",
   "metadata": {},
   "source": [
    "## 多线程爬取"
   ]
  },
  {
   "cell_type": "markdown",
   "metadata": {},
   "source": [
    "多线程是提升当前进程的效率，当前只有一个进程，当线程用于下载时，只是提升了下载的速度，获取图片url此时还是在等待下载完成后，才能进行。"
   ]
  },
  {
   "cell_type": "code",
   "execution_count": null,
   "metadata": {},
   "outputs": [],
   "source": [
    "import time\n",
    "import requests\n",
    "from lxml import etree\n",
    "from concurrent.futures import ThreadPoolExecutor\n",
    "\n",
    "headers = {\n",
    "        \"User-Agent\": \"Mozilla/5.0 (Windows NT 10.0; Win64; x64) AppleWebKit/537.36 (KHTML, like Gecko) \"\n",
    "                      \"Chrome/100.0.4896.75 Safari/537.36\"\n",
    "    }\n",
    "\n",
    "\n",
    "def get_img_url():\n",
    "    for page in range(1, 3):\n",
    "        url = 'https://www.pkdoutu.com/photo/list/?page=1'\n",
    "        resp = requests.get(url, headers=headers)\n",
    "\n",
    "        tree = etree.HTML(resp.text)\n",
    "        img_url = tree.xpath('//li[@class=\"list-group-item\"]//img/@data-original')  # //img是什么意思？\n",
    "        for img in img_url:\n",
    "            print(\"下载一张图片\")\n",
    "            with ThreadPoolExecutor(10) as t:\n",
    "                t.submit(download_url, img)\n",
    "\n",
    "\n",
    "def download_url(url):\n",
    "    file_name = url.split('/')[-1]\n",
    "    resp = requests.get(url, headers=headers)\n",
    "    with open(f'./img/{file_name}', mode='wb') as f:\n",
    "        f.write(resp.content)\n",
    "\n",
    "\n",
    "if __name__ == '__main__':\n",
    "    s1 = time.time()\n",
    "    get_img_url()\n",
    "    s2 = time.time()\n",
    "    print('total time: ', s2-s1)"
   ]
  },
  {
   "attachments": {
    "image.png": {
     "image/png": "[encoded data removed]"
    }
   },
   "cell_type": "markdown",
   "metadata": {},
   "source": [
    "耗时：\n",
    "![image.png](attachment:image.png)"
   ]
  },
  {
   "cell_type": "markdown",
   "metadata": {},
   "source": [
    "## 多进程爬取"
   ]
  },
  {
   "cell_type": "markdown",
   "metadata": {},
   "source": [
    "将获取图片url和下载资源分为两个进程，同时进行。使用队列作为两个进程之间的通信工具。"
   ]
  },
  {
   "cell_type": "code",
   "execution_count": null,
   "metadata": {},
   "outputs": [],
   "source": [
    "import time\n",
    "import requests\n",
    "from lxml import etree\n",
    "from concurrent.futures import ThreadPoolExecutor\n",
    "from multiprocessing import Process, Queue\n",
    "\n",
    "headers = {\n",
    "        \"User-Agent\": \"Mozilla/5.0 (Windows NT 10.0; Win64; x64) AppleWebKit/537.36 (KHTML, like Gecko) \"\n",
    "                      \"Chrome/100.0.4896.75 Safari/537.36\"\n",
    "    }\n",
    "\n",
    "\n",
    "def get_img_url(q):\n",
    "    for page in range(1, 4):\n",
    "        url = f'https://www.pkdoutu.com/photo/list/?page={page}'\n",
    "        resp = requests.get(url, headers=headers)\n",
    "\n",
    "        tree = etree.HTML(resp.text)\n",
    "        img_url = tree.xpath('//li[@class=\"list-group-item\"]//img/@data-original')  # //img是什么意思？\n",
    "        for img in img_url:\n",
    "            print(\"下载一张图片\", img)\n",
    "            q.put(img)\n",
    "    q.put(\"url end\")\n",
    "\n",
    "\n",
    "def img_process(q):\n",
    "    with ThreadPoolExecutor(20) as t:\n",
    "        while True:\n",
    "            url = q.get()  # 从队列中拿出一个url，如果队列中没有值，会阻塞等待\n",
    "            if url == 'url end':\n",
    "                # 所有url都获取完了，后面没有url了\n",
    "                print('获取图片链接完毕')\n",
    "                break\n",
    "            t.submit(download_url, url)\n",
    "\n",
    "\n",
    "def download_url(url):\n",
    "    file_name = url.split('/')[-1]\n",
    "    resp = requests.get(url, headers=headers)\n",
    "    with open(f'./img/{file_name}', mode='wb') as f:\n",
    "        f.write(resp.content)\n",
    "\n",
    "\n",
    "if __name__ == '__main__':\n",
    "    s1 = time.time()\n",
    "    # 初始化队列\n",
    "    q = Queue()\n",
    "    p_get = Process(target=get_img_url, args=(q,))\n",
    "    p_download = Process(target=img_process, args=(q,))\n",
    "\n",
    "    p_get.start()\n",
    "    p_download.start()\n",
    "\n",
    "    # 等待子进程结束\n",
    "    p_get.join()\n",
    "    p_download.join()\n",
    "\n",
    "    s2 = time.time()\n",
    "    print('total time: ', s2-s1)"
   ]
  },
  {
   "attachments": {
    "image.png": {
     "image/png": "[encoded data removed]"
    }
   },
   "cell_type": "markdown",
   "metadata": {},
   "source": [
    "耗时：\n",
    "![image.png](attachment:image.png)"
   ]
  },
  {
   "cell_type": "markdown",
   "metadata": {},
   "source": [
    "# 协程结合爬虫"
   ]
  },
  {
   "cell_type": "markdown",
   "metadata": {},
   "source": [
    "通用协程爬虫模板"
   ]
  },
  {
   "cell_type": "code",
   "execution_count": null,
   "metadata": {},
   "outputs": [],
   "source": [
    "import asyncio\n",
    "\n",
    "\n",
    "async def get_page_source(url):\n",
    "    print(\"向服务器请求\")\n",
    "    await asyncio.sleep(3)\n",
    "    print(\"拿到服务器数据\")\n",
    "\n",
    "    return \"返回请求的数据\"\n",
    "\n",
    "async def main():\n",
    "    # 一堆将要爬取资源的url\n",
    "    urls = [\n",
    "        'www.baidu.com',\n",
    "        'www,google.com'\n",
    "    ]\n",
    "    \n",
    "    \n",
    "    ############################# 获取协程函数的返回值 ##########\n",
    "    #### 方案一：  ####\n",
    "\n",
    "    # 拿到协程对象并创建对应的任务，在asyncio.create_task的时候就已经开始启动了，但是其任务可能没有执行完\n",
    "    tasks = [asyncio.create_task(get_page_source(url)) for url in urls]\n",
    "\n",
    "    # 等待任务完成，result来接收所有协程函数的返回值。\n",
    "    result, pending = await asyncio.wait(tasks) # 此时所有的任务才执行完了\n",
    "    # 所有任务执行完后，将任务返回的结果返回到result（第一个返回的结果）中，pending（第二个返回值）可以不关心\n",
    "    \n",
    "        \n",
    "    #### 方案二： ####\n",
    "    # result = await asyncio.gather(*tasks)\n",
    "    \n",
    "    \n",
    "    for r in result:\n",
    "        print(r.result())  # 拿到任务返回的结果\n",
    "    \n",
    "\n",
    "    ############################# 获取协程函数的返回值 ##########\n",
    "    print(\"请求结束\")\n",
    "\n",
    "\n",
    "if __name__ == '__main__':\n",
    "    m = main()\n",
    "    asyncio.run(m)"
   ]
  },
  {
   "cell_type": "markdown",
   "metadata": {},
   "source": [
    "一般很少接收返回值，因为爬取页面html时，协程请求速度快，很容易将网站干崩溃。经常用到协程的场景是下载图片，视频等直接将拿到的数据写入到文件中了，不太用到返回值。"
   ]
  },
  {
   "cell_type": "markdown",
   "metadata": {},
   "source": [
    "## 支持异步能发送网络请求的模块"
   ]
  },
  {
   "cell_type": "markdown",
   "metadata": {},
   "source": [
    "requests不支持异步，但是可以在协程函数中使用，但是它慢。需要支持异步的包："
   ]
  },
  {
   "cell_type": "markdown",
   "metadata": {},
   "source": [
    "```python\n",
    "import asyncio\n",
    "\n",
    "import aiohttp  # pip install aiohttp  替换的requests，异步的请求\n",
    "import aiofiles  # pip install aiofiles 替换的是open，异步的文件读写\n",
    "```"
   ]
  },
  {
   "cell_type": "markdown",
   "metadata": {},
   "source": [
    "### asyncio使用"
   ]
  },
  {
   "cell_type": "code",
   "execution_count": null,
   "metadata": {},
   "outputs": [],
   "source": [
    "import aiohttp\n",
    "import asyncio\n",
    "import aiofiles\n",
    "\n",
    "headers = {}\n",
    "\n",
    "async def download(url):\n",
    "    print(\"向服务器请求\")\n",
    "    file_name = url.split('/')[-1]\n",
    "    # 如果with后面是一个异步的包，那么绝大多数这里前面要加async\n",
    "    async with aiohttp.ClientSession() as session:\n",
    "        async with session.get(url, headers=headers) as resp:  # get的参数和requests.get的参数大多数相同\n",
    "            # 拿网页源代码：page_source = await resp.text(encoding=\"utf-8\")\n",
    "            # 拿json: json_data = await resp.json()\n",
    "            content = await resp.content.read()  # 拿到资源字节数据，在此处挂起，等待网页的响应\n",
    "\n",
    "            async with aiofiles.open(file_name, mode='wb') as f:  # 异步文件读写操作\n",
    "                await f.write(content)  # await后面跟的是一个函数的调用，在此处挂起，等待写完数据\n",
    "    print(\"获取数据结束\")\n",
    "\n",
    "\n",
    "async def main():\n",
    "    # 一堆将要爬取源代码的url\n",
    "    urls = [\n",
    "        'https://img.h4ck.org.cn/wp-content/uploads/2022/01/20b562a268b9aee4b3403ba601fba85a.jpg',\n",
    "        'https://img.h4ck.org.cn/wp-content/uploads/2021/09/7c3bc542238f57722ac818f3803174d9-768x513.jpg'\n",
    "    ]\n",
    "\n",
    "    # 拿到协程对象并创建对应的任务，在asyncio.create_task的时候就已经开始启动了，但是其任务可能没有执行完\n",
    "    tasks = [asyncio.create_task(download(url)) for url in urls]\n",
    "\n",
    "    # 等待任务完成\n",
    "    await asyncio.wait(tasks)\n",
    "\n",
    "    print(\"请求结束\")\n",
    "\n",
    "\n",
    "if __name__ == '__main__':\n",
    "    # m = main()\n",
    "    # asyncio.run(m)\n",
    "    event_loop = asyncio.get_event_loop()\n",
    "    event_loop.run_until_complete(main())"
   ]
  },
  {
   "cell_type": "markdown",
   "metadata": {},
   "source": [
    "# 协程爬取明朝那些事"
   ]
  },
  {
   "cell_type": "markdown",
   "metadata": {},
   "source": [
    "地址：https://www.mingchaonaxieshier.com/"
   ]
  },
  {
   "cell_type": "markdown",
   "metadata": {},
   "source": [
    "要求：不要让网页死掉了。\n",
    "\n",
    "其他练手的地址：https://www.51shucheng.net/"
   ]
  },
  {
   "cell_type": "markdown",
   "metadata": {},
   "source": [
    "分析：\n",
    "1. 拿到主页面的源代码（不需要异步）\n",
    "2. 拿到源代码之后，需要解析出 卷名，章节和其href\n",
    "3. 协程获取小说内容"
   ]
  },
  {
   "cell_type": "markdown",
   "metadata": {},
   "source": [
    "页面源代码和elements可能会不一样，可以参考elements的信息，最后分析页面还是要以页面源代码为准。"
   ]
  },
  {
   "cell_type": "code",
   "execution_count": null,
   "metadata": {},
   "outputs": [],
   "source": [
    "import os\n",
    "import requests\n",
    "from lxml import etree\n",
    "import asyncio\n",
    "import aiofiles\n",
    "import aiohttp\n",
    "\n",
    "headers = {\n",
    "        \"User-Agent\": \"Mozilla/5.0 (Windows NT 10.0; Win64; x64) AppleWebKit/537.36 (KHTML, like Gecko) Chrome/100.0.4896.75 Safari/537.36\"\n",
    "    }\n",
    "\n",
    "\n",
    "def get_chapter_info(url):\n",
    "    resp = requests.get(url, headers=headers)\n",
    "    resp.encoding = \"UTF-8\"\n",
    "    page_source = resp.text\n",
    "    # print(page_source)\n",
    "    tree = etree.HTML(page_source)\n",
    "\n",
    "    results = []\n",
    "\n",
    "    divs = tree.xpath(\"//div[@class='mulu']\")\n",
    "    print(divs)\n",
    "    for div in divs:  # 拿到七个卷\n",
    "        trs = div.xpath('.//tr')\n",
    "        juan_name = trs[0].xpath('.//td//a/text()')  # tr中第一个元素是卷名, 返回的是一个列表\n",
    "        juan_name = \"\".join(juan_name).strip().replace(\"：\", \"_\")\n",
    "        print(juan_name)\n",
    "        for tr in trs[1:]:  # 拿到所有的章节，一个tr中有三个章节\n",
    "            for td in tr.xpath('.//td'):  # 拿到每一个章节\n",
    "                chapter_name = td.xpath('.//a/text()')\n",
    "                chapter_href = td.xpath('.//a/@href')\n",
    "                if chapter_href and chapter_href:  # 最后两个是td是空的，需要排除空的td\n",
    "                    # 列表转为字符串\n",
    "                    chapter_name = \"\".join(chapter_name).strip().replace(\" \", \"_\")\n",
    "                    chapter_href = \"\".join(chapter_href).strip()\n",
    "\n",
    "                    dic = {\"juan_name\": juan_name, \"chapter_name\": chapter_name, \"chapter_href\": chapter_href}\n",
    "                    results.append(dic)\n",
    "    return results\n",
    "\n",
    "\n",
    "async def download_one(url, file_path):\n",
    "    print(\"开始下载一章\")\n",
    "    async with aiohttp.ClientSession() as session:\n",
    "        async with session.get(url, headers=headers) as resp:\n",
    "            page_source = await resp.text(encoding='UTF-8')\n",
    "            # 解析小说章节的内容\n",
    "            tree = etree.HTML(page_source)\n",
    "            content = tree.xpath('//div[@class=\"content\"]/p/text()')\n",
    "            # print(content)\n",
    "            # 列表处理为字符串\n",
    "            content = \"\".join(content).strip().replace(\"\\n\", \"\").replace(\"\\t\", \"\").replace(\" \", \"\")\n",
    "\n",
    "            # 写入文件\n",
    "            async with aiofiles.open(file_path, mode='w', encoding=\"UTF-8\") as f:\n",
    "                await f.write(content)\n",
    "\n",
    "            print(\"一章下载完成：\", file_path, url)\n",
    "\n",
    "\n",
    "async def download_chapter(chapter_list):\n",
    "    tasks = []\n",
    "    for chapter in chapter_list:\n",
    "        dir_name = chapter.get(\"juan_name\")\n",
    "        chapter_name = chapter.get(\"chapter_name\")\n",
    "        if not os.path.exists(dir_name):\n",
    "            os.mkdir(dir_name)\n",
    "        file_path = os.path.join(dir_name, f'{chapter_name}.txt')\n",
    "        url = chapter.get(\"chapter_href\")\n",
    "\n",
    "        tasks.append(asyncio.create_task(download_one(url, file_path)))\n",
    "        # break  # 调试用，不至于干崩网页，调试完成后可以注释\n",
    "    await asyncio.wait(tasks)\n",
    "\n",
    "\n",
    "def main():\n",
    "    url = 'https://www.mingchaonaxieshier.com/'\n",
    "    chapter_list = get_chapter_info(url)\n",
    "    # asyncio.run(download_chapter(chapter_list))\n",
    "    loop_event = asyncio.get_event_loop()\n",
    "    loop_event.run_until_complete(download_chapter(chapter_list))\n",
    "\n",
    "\n",
    "if __name__ == '__main__':\n",
    "    main()"
   ]
  }
 ],
 "metadata": {
  "kernelspec": {
   "display_name": "Python 3",
   "language": "python",
   "name": "python3"
  },
  "language_info": {
   "codemirror_mode": {
    "name": "ipython",
    "version": 3
   },
   "file_extension": ".py",
   "mimetype": "text/x-python",
   "name": "python",
   "nbconvert_exporter": "python",
   "pygments_lexer": "ipython3",
   "version": "3.8.5"
  }
 },
 "nbformat": 4,
 "nbformat_minor": 4
}
