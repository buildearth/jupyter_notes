{
 "cells": [
  {
   "cell_type": "markdown",
   "metadata": {},
   "source": [
    "# 简介"
   ]
  },
  {
   "cell_type": "markdown",
   "metadata": {},
   "source": [
    "免费代理ip池，就是自动爬取网络上的一些免费的代理，经过校验之后，将可用代理存储起来，在需要时随机提供一个可用的免费代理。"
   ]
  },
  {
   "cell_type": "markdown",
   "metadata": {},
   "source": [
    "不过网上的免费代理可用性都很差，如果想正常使用还是建议购买隧道代理，这个相对来说比较稳定。"
   ]
  },
  {
   "cell_type": "markdown",
   "metadata": {},
   "source": [
    "# 分析"
   ]
  },
  {
   "cell_type": "markdown",
   "metadata": {},
   "source": [
    "要实现代理ip池，需要考虑以下内容\n",
    "1. 从哪里获取免费的代理ip\n",
    "    - 快代理（可用的比较少）：https://www.kuaidaili.com/free/\n",
    "    - 不知名的代理：https://ip.jiangxianli.com/?page=1\n",
    "2. 如何获取代理\n",
    "    - 使用爬虫定时的爬取网页的免费代理，网站中的代理都是定时刷新的，只需要爬取第一页的代理ip即可\n",
    "3. 免费代理如何存储\n",
    "    - 免费代理的查询场景很多，要考虑到查询速度\n",
    "    - 免费代理ip不能重复，要考虑去重，在爬取时重复的ip跳过\n",
    "    - 要对代理ip进行定时校验，更新其的可用性，查询和更新要快\n",
    "    - 在提供可用ip时，要先拿出所有可用ip，将ip随机提供出去\n",
    "    \n",
    "    综上考虑，选择redis来存储，使用zset来存储，其有个score可以用来识别其可用性。\n",
    "4. 如何识别免费代理ip可用\n",
    "    - 使用代理ip想某个网址发送请求，如果可以拿到正确的响应说明是可用的\n",
    "    - 需在请求时设置超时，代理ip不可用时，默认的超时时间很久，所有需要设置超时。\n",
    "    - 建议向大众经常使用的网址发送请求来识别代理ip是否可用，如baidu\n",
    "    - 也可以向你要爬取的目标网站发送请求来检测是否可用(不过可能会提前被封)\n",
    "5. 如何对外提供可用的免费代理ip\n",
    "    - 可以使用flask搭建一个简单的服务\n",
    "    - 每次对外提供一个随机可用的ip\n",
    "    "
   ]
  },
  {
   "cell_type": "markdown",
   "metadata": {},
   "source": [
    "在存储时有个思路：\n",
    "    \n",
    "    使用redis的zset来存储，当代理ip添加时，其初始的score都是30，每次检测如果用直接将其的score拉满为100分，如果一个检测ip不可用就将其score减去2.当score<=0时，将该ip从zset中删除。\n",
    "    \n",
    "    稳定的ip是分数为满分的，不稳定的ip是分数是50-99之间的。"
   ]
  },
  {
   "cell_type": "markdown",
   "metadata": {},
   "source": [
    "# 代码\n"
   ]
  },
  {
   "cell_type": "markdown",
   "metadata": {},
   "source": [
    "## redis的操作"
   ]
  },
  {
   "cell_type": "markdown",
   "metadata": {},
   "source": [
    "爬取代理存储到redis、从redis拿到所有的ip校验可用性、从redis中拿可用ip提供出去；这三个操作都离不开对redis的操作，所以首先封装对redis的操作"
   ]
  },
  {
   "cell_type": "markdown",
   "metadata": {},
   "source": [
    "```python\n",
    "import random\n",
    "from redis import Redis\n",
    "\n",
    "class ProxyRedis(object):\n",
    "    def __init__(self):\n",
    "        self.red = Redis(\n",
    "            host='127.0.0.1',\n",
    "            port='6379',\n",
    "            db=5,\n",
    "            decode_responses=True\n",
    "        )\n",
    "\n",
    "    def add_proxy_ip(self, ip):\n",
    "        \"\"\"\n",
    "        增加时要先检测ip是否已经存在\n",
    "        :param ip:\n",
    "        :return:\n",
    "        \"\"\"\n",
    "        if not self.red.zscore('proxy_ip', ip):\n",
    "            self.red.zadd('proxy_ip', {ip: 30})\n",
    "        else:\n",
    "            print(f\"采集到新的IP了，{ip}，但是以及存在了\")\n",
    "\n",
    "    def get_all_proxy(self):\n",
    "        return self.red.zrange('proxy_ip', 0, -1)\n",
    "\n",
    "    def set_max_score(self, ip):\n",
    "        self.red.zadd('proxy_ip', {ip: 100})\n",
    "\n",
    "    def desc_incrby(self, ip):\n",
    "        \"\"\"\n",
    "        检验的ip此次不可用，将分数减去2\n",
    "        :param ip:\n",
    "        :return:\n",
    "        \"\"\"\n",
    "        score = self.red.zscore('proxy_ip', ip)\n",
    "        if score > 0:\n",
    "            # 分数减去2\n",
    "            self.red.zincrby('proxy_ip', -2, ip)\n",
    "        else:\n",
    "            # 分值以及小于0了，删除，再见\n",
    "            self.red.zrem('proxy_ip', ip)\n",
    "\n",
    "    def get_avail_proxy(self):\n",
    "        \"\"\"\n",
    "        可用ip可以分等级：\n",
    "            满分可用ip\n",
    "            稳定性差的ip：50-99\n",
    "        没有可用ip时返回None\n",
    "        :return:\n",
    "        \"\"\"\n",
    "        # 拿到所有ip中分数为100的ip\n",
    "        ips = self.red.zrangebyscore('proxy_ip', 100, 100, 0, -1)  # 参数：字典大key，最小分数，最大分数，起始位置，终止位置\n",
    "        if not ips:\n",
    "            # 没有满分可用ip，拿质量较差的ip\n",
    "            ips = self.red.zrangebyscore('proxy_ip', 50, 99, 0, -1)\n",
    "            print(\"满分ip没有了，只有较差的ip\")\n",
    "\n",
    "        if ips:\n",
    "            return random.choice(ips)\n",
    "        print(\"实在没有可用的IP了\")\n",
    "        return None\n",
    "\n",
    "\n",
    "if __name__ == '__main__':\n",
    "    r = ProxyRedis()\n",
    "    # r.add_proxy_ip('129.11.12.11')\n",
    "    r.set_max_score('129.11.12.11')\n",
    "    print(r.get_avail_proxy())\n",
    "```"
   ]
  },
  {
   "cell_type": "markdown",
   "metadata": {},
   "source": [
    "## 爬取网站的免费代理ip"
   ]
  },
  {
   "cell_type": "markdown",
   "metadata": {},
   "source": [
    "下载时，肯定是需要循环下载的，每隔一段时间去网站获取免费的代理IP"
   ]
  },
  {
   "cell_type": "markdown",
   "metadata": {},
   "source": [
    "```python\n",
    "import time\n",
    "import requests\n",
    "from lxml import etree\n",
    "from proxy_redis import ProxyRedis\n",
    "\n",
    "\n",
    "class IPCollection(object):\n",
    "    def __init__(self):\n",
    "        self.proxy_redis = ProxyRedis()\n",
    "        self.headers = {\n",
    "            \"User-Agent\": \"Mozilla/5.0 (Windows NT 10.0; Win64; x64) AppleWebKit/537.36 (KHTML, like Gecko) Chrome/100.0.4896.75 Safari/537.36\"\n",
    "        }\n",
    "\n",
    "    def get_jiangxianli(self):\n",
    "        url = 'https://ip.jiangxianli.com/?page=1'\n",
    "        resp = requests.get(url, headers=self.headers)\n",
    "        tree = etree.HTML(resp.text)\n",
    "        trs = tree.xpath('//table/tbody//tr')\n",
    "        for tr in trs:\n",
    "            ip = tr.xpath('./td[1]/text()')\n",
    "            port = tr.xpath('./td[2]/text()')\n",
    "\n",
    "            if not ip:\n",
    "                continue\n",
    "\n",
    "            self.proxy_redis.add_proxy_ip(f'{ip[0]}:{port[0]}')\n",
    "\n",
    "\n",
    "    def get_kuaidali(self):\n",
    "        url = 'https://www.kuaidaili.com/free/intr/'  # 建议爬取国内普通代理，国内高匿多数不可用\n",
    "        resp = requests.get(url, headers=self.headers)\n",
    "        tree = etree.HTML(resp.text)\n",
    "        # print(resp.text)\n",
    "        trs = tree.xpath('//table/tbody//tr')\n",
    "        for tr in trs:\n",
    "            ip = tr.xpath('./td[1]/text()')\n",
    "            port = tr.xpath('./td[2]/text()')\n",
    "\n",
    "            if not ip:\n",
    "                continue\n",
    "            self.proxy_redis.add_proxy_ip(f'{ip[0]}:{port[0]}')\n",
    "\n",
    "    def run(self):\n",
    "        \"\"\"\n",
    "        循环采集爬虫\n",
    "        :return:\n",
    "        \"\"\"\n",
    "        while True:\n",
    "            try:\n",
    "                self.get_kuaidali()\n",
    "                self.get_jiangxianli()\n",
    "            except Exception as e:\n",
    "                print(\"有人崩了\", e)\n",
    "\n",
    "            time.sleep(60)  # 睡眠60s，继续爬取ip\n",
    "\n",
    "def run():\n",
    "    ip_col = IPCollection()\n",
    "    # ip_col.get_kuaidali()\n",
    "    ip_col.run()\n",
    "\n",
    "if __name__ == '__main__':\n",
    "    ip_col = IPCollection()\n",
    "    # ip_col.get_kuaidali()\n",
    "    ip_col.run()\n",
    "```"
   ]
  },
  {
   "cell_type": "markdown",
   "metadata": {},
   "source": [
    "## 检验ip的可用性"
   ]
  },
  {
   "cell_type": "markdown",
   "metadata": {},
   "source": [
    "向百度发起请求来查看当前ip是否可用`https://www.baidu.com/s?ie=UTF-8&wd=ip`,来查看当前ip是不是代理ip\n"
   ]
  },
  {
   "cell_type": "markdown",
   "metadata": {},
   "source": [
    "一次从redis中拿出所有的ip，使用单线程来一个一个校验太慢了，可以使用多线程或者协程的方式来校验。"
   ]
  },
  {
   "cell_type": "markdown",
   "metadata": {},
   "source": [
    "```python\n",
    "import time\n",
    "import re\n",
    "import asyncio\n",
    "import aiohttp\n",
    "from proxy_redis import ProxyRedis\n",
    "headers = {\n",
    "    \"User-Agent\": \"Mozilla/5.0 (Windows NT 10.0; Win64; x64) AppleWebKit/537.36 (KHTML, like Gecko) Chrome/100.0.4896.75 Safari/537.36\"\n",
    "}\n",
    "\n",
    "async def check_ip(ip, sem, proxy_redis):\n",
    "    print(f\"开始检测{ip}的可用性.....\")\n",
    "    url = 'https://www.baidu.com/s?ie=utf-8&f=8&rsv_bp=1&tn=baidu&wd=ip&oq=ip&rsv_pq=8e6712c90001cd36&rsv_t=a679rO0w6H496Lzf2uVmYRvMFon8BfJh9djjxIZ%2BzSjXWYc8Jvs38aYmvJY&rqlang=cn&rsv_enter=0&rsv_dl=tb&rsv_btype=t'\n",
    "    timeout = aiohttp.ClientTimeout(total=10)  # 10秒没回来就报错, 扣分\n",
    "    print(\"开始校验ip:\", ip)\n",
    "    async with sem:\n",
    "        try:\n",
    "            async with aiohttp.ClientSession() as session:\n",
    "                async with session.get(url, headers=headers, timeout=timeout, proxy=f'http://{ip}') as resp:\n",
    "                    page_source = await resp.text()\n",
    "                    print(page_source)\n",
    "                    if resp.status in [200, 302]:\n",
    "                        # 没有问题，拉满分值\n",
    "                        proxy_redis.set_max_score(ip)\n",
    "                        r = re.compile('<span class=\"c-gap-right\">本机IP:&nbsp;(?P<ip>.*?)')\n",
    "                        print(ip, \"可用，分值拉满！！！\", r.findall(page_source))\n",
    "                    else:\n",
    "                        # 减分\n",
    "                        proxy_redis.desc_incrby(ip)\n",
    "                        print(ip, \"不可用，扣分\")\n",
    "        except Exception as e:\n",
    "            # 超时时会报错，在此处捕捉异常\n",
    "            print(\"校验可用性报错了\", ip, e)\n",
    "            # 进行扣分\n",
    "            proxy_redis.desc_incrby(ip)\n",
    "            print(ip, '不可用扣分')\n",
    "\n",
    "\n",
    "async def main(proxy_redis):\n",
    "    # 拿出所有ip\n",
    "    ips = proxy_redis.get_all_proxy()\n",
    "    sem = asyncio.Semaphore(30)  # 控制并发量. 默认30\n",
    "    task = []\n",
    "    for ip in ips:\n",
    "        task.append(asyncio.create_task(check_ip(ip, sem, proxy_redis)))\n",
    "\n",
    "    await asyncio.wait(task)\n",
    "\n",
    "\n",
    "def run():\n",
    "    proxy_redis = ProxyRedis()\n",
    "    # 初始的等待，等待爬虫抓取到一些数据了开始检测\n",
    "    time.sleep(100)\n",
    "    while True:\n",
    "        # 每隔一段时间检测\n",
    "        try:\n",
    "            event_loop = asyncio.get_event_loop()\n",
    "            event_loop.run_until_complete(main(proxy_redis))\n",
    "            time.sleep(100)  # 每次检测完，等一段时间再去检测\n",
    "        except Exception as e:\n",
    "            print(\"在校验的时候出错了\", e)\n",
    "            time.sleep(100)\n",
    "\n",
    "\n",
    "if __name__ == '__main__':\n",
    "    run()\n",
    "```"
   ]
  },
  {
   "cell_type": "markdown",
   "metadata": {},
   "source": [
    "从校验的可用ip中拿一个出来，配置为代理看可用性：\n",
    "\n",
    "如果和你本地ip地址不同，说明生效了\n",
    "```python\n",
    "import requests\n",
    "    proxy = {\n",
    "        'http': 'http://118.190.244.234:3128',\n",
    "        'https': 'http://118.190.244.234:3128'\n",
    "    }\n",
    "    resp = requests.get('https://2022.ip138.com/',\n",
    "                        proxies=proxy,\n",
    "                        headers=headers\n",
    "                        )\n",
    "    resp.encoding = 'utf-8'\n",
    "    print(resp.text)\n",
    "```"
   ]
  },
  {
   "attachments": {
    "image.png": {
     "image/png": "[encoded data removed]"
    }
   },
   "cell_type": "markdown",
   "metadata": {},
   "source": [
    "![image.png](attachment:image.png)"
   ]
  },
  {
   "cell_type": "markdown",
   "metadata": {},
   "source": [
    "## 开启一个网络服务API来提供ip"
   ]
  },
  {
   "cell_type": "markdown",
   "metadata": {},
   "source": [
    "flask解决跨区域：\n",
    "\n",
    "```python\n",
    "# 安装： pip install flask-cors\n",
    "```"
   ]
  },
  {
   "cell_type": "markdown",
   "metadata": {},
   "source": [
    "用flask编写一个提供api的服务端"
   ]
  },
  {
   "cell_type": "markdown",
   "metadata": {},
   "source": [
    "```python\n",
    "from flask import Flask, jsonify\n",
    "from flask_cors import CORS\n",
    "\n",
    "from proxy_redis import ProxyRedis\n",
    "app = Flask(__name__)\n",
    "\n",
    "CORS(app, supports_credentials=True)\n",
    "\n",
    "proxy_redis = ProxyRedis()\n",
    "\n",
    "\n",
    "@app.route('/get_proxy_ip')\n",
    "def get_proxy_ip():\n",
    "    return jsonify({'ip': proxy_redis.get_avail_proxy()})\n",
    "\n",
    "\n",
    "def run():\n",
    "    app.run(host='127.0.0.1', port='9939')\n",
    "\n",
    "if __name__ == '__main__':\n",
    "    app.run(host='127.0.0.1', port='9939')\n",
    "\n",
    "\n",
    "```"
   ]
  },
  {
   "cell_type": "markdown",
   "metadata": {},
   "source": [
    "## 将三者结合，同时运行"
   ]
  },
  {
   "cell_type": "markdown",
   "metadata": {},
   "source": [
    "每个功能起一个进行执行，三个功能要同时运行，在采集的同时，分析可用性，并且将IP的API提供给用户。"
   ]
  },
  {
   "cell_type": "markdown",
   "metadata": {},
   "source": [
    "```python\n",
    "from multiprocessing import Process\n",
    "\n",
    "from ip_collection import run as col_run\n",
    "from ip_verify import run as ver_run\n",
    "from ip_api import run as api_run\n",
    "\n",
    "# 三个进程全部启动执行\n",
    "\n",
    "\n",
    "def main():\n",
    "    col = Process(target=col_run)\n",
    "    verify = Process(target=ver_run)\n",
    "    api = Process(target=api_run)\n",
    "\n",
    "    col.start()\n",
    "    verify.start()\n",
    "    api.start()\n",
    "\n",
    "\n",
    "if __name__ == '__main__':\n",
    "    main()\n",
    "```"
   ]
  },
  {
   "cell_type": "markdown",
   "metadata": {},
   "source": [
    "其模型是，生产者消费者模型"
   ]
  },
  {
   "attachments": {
    "image.png": {
     "image/png": "[encoded data removed]"
    }
   },
   "cell_type": "markdown",
   "metadata": {},
   "source": [
    "![image.png](attachment:image.png)"
   ]
  }
 ],
 "metadata": {
  "kernelspec": {
   "display_name": "Python 3",
   "language": "python",
   "name": "python3"
  },
  "language_info": {
   "codemirror_mode": {
    "name": "ipython",
    "version": 3
   },
   "file_extension": ".py",
   "mimetype": "text/x-python",
   "name": "python",
   "nbconvert_exporter": "python",
   "pygments_lexer": "ipython3",
   "version": "3.8.5"
  }
 },
 "nbformat": 4,
 "nbformat_minor": 4
}
