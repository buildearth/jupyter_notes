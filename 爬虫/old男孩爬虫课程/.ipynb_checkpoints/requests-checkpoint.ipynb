{
 "cells": [
  {
   "cell_type": "markdown",
   "metadata": {},
   "source": [
    "# requests 简单入门"
   ]
  },
  {
   "cell_type": "code",
   "execution_count": 4,
   "metadata": {
    "collapsed": true
   },
   "outputs": [],
   "source": [
    "import requests"
   ]
  },
  {
   "cell_type": "code",
   "execution_count": 6,
   "metadata": {},
   "outputs": [],
   "source": [
    "url = \"https://movie.douban.com/j/new_search_subjects\"\n",
    "\n",
    "# getq请求参数信息\n",
    "params = {\n",
    "    \"sort\": \"U\",\n",
    "    \"range\": \"0,10\",\n",
    "    \"tags\": \"\",\n",
    "    \"start\": \"0\",\n",
    "}\n",
    "\n",
    "# 请求头信息，简单的解决反爬\n",
    "header = {\n",
    "    \"User-Agent\": \"Mozilla/5.0 (Windows NT 10.0; Win64; x64) AppleWebKit/537.36 (KHTML, like Gecko) Chrome/99.0.4844.84 Safari/537.36\"\n",
    "}\n",
    "\n",
    "# 发送get请求，params是get请求的形参，headers是请求头\n",
    "resp = requests.get(url, params=params, headers=header)\n",
    "# post请求 ， data是post请求的形参，\n",
    "# resp = requests.get(url, data=params, headers=header)\n"
   ]
  },
  {
   "cell_type": "code",
   "execution_count": 19,
   "metadata": {},
   "outputs": [
    {
     "data": {
      "text/plain": [
       "'https://movie.douban.com/j/new_search_subjects?sort=U&range=0%2C10&tags=&start=0'"
      ]
     },
     "execution_count": 19,
     "metadata": {},
     "output_type": "execute_result"
    }
   ],
   "source": [
    "resp.request.url  # 查看请求的url"
   ]
  },
  {
   "cell_type": "code",
   "execution_count": 20,
   "metadata": {},
   "outputs": [
    {
     "data": {
      "text/plain": [
       "{'User-Agent': 'Mozilla/5.0 (Windows NT 10.0; Win64; x64) AppleWebKit/537.36 (KHTML, like Gecko) Chrome/99.0.4844.84 Safari/537.36', 'Accept-Encoding': 'gzip, deflate', 'Accept': '*/*', 'Connection': 'keep-alive'}"
      ]
     },
     "execution_count": 20,
     "metadata": {},
     "output_type": "execute_result"
    }
   ],
   "source": [
    "resp.request.headers  # 查看请求头信息"
   ]
  },
  {
   "cell_type": "code",
   "execution_count": 18,
   "metadata": {},
   "outputs": [
    {
     "data": {
      "text/plain": [
       "b'{\"data\":[{\"directors\":[\"\\xe9\\x99\\x88\\xe5\\x87\\xaf\\xe6\\xad\\x8c\",\"\\xe5\\xbe\\x90\\xe5\\x85\\x8b\",\"\\xe6\\x9e\\x97\\xe8\\xb6\\x85\\xe8\\xb4\\xa4\"],\"rate\":\"7.4\",\"cover_x\":1080,\"star\":\"35\",\"title\":\"\\xe9\\x95\\xbf\\xe6\\xb4\\xa5\\xe6\\xb9\\x96\",\"url\":\"https:\\\\/\\\\/movie.douban.com\\\\/subject\\\\/25845392\\\\/\",\"casts\":[\"\\xe5\\x90\\xb4\\xe4\\xba\\xac\",\"\\xe6\\x98\\x93\\xe7\\x83\\x8a\\xe5\\x8d\\x83\\xe7\\x8e\\xba\",\"\\xe6\\xae\\xb5\\xe5\\xa5\\x95\\xe5\\xae\\x8f\",\"\\xe6\\x9c\\xb1\\xe4\\xba\\x9a\\xe6\\x96\\x87\",\"\\xe6\\x9d\\x8e\\xe6\\x99\\xa8\"],\"cover\":\"https://img9.doubanio.com\\\\/view\\\\/photo\\\\/s_ratio_poster\\\\/public\\\\/p2681329386.jpg\",\"id\":\"25845392\",\"cover_y\":1513},{\"directors\":[\"\\xe5\\xa8\\x84\\xe7\\x83\\xa8\"],\"rate\":\"7.2\",\"cover_x\":4669,\"star\":\"35\",\"title\":\"\\xe5\\x85\\xb0\\xe5\\xbf\\x83\\xe5\\xa4\\xa7\\xe5\\x89\\xa7\\xe9\\x99\\xa2\",\"url\":\"https:\\\\/\\\\/movie.douban.com\\\\/subject\\\\/26954859\\\\/\",\"casts\":[\"\\xe5\\xb7\\xa9\\xe4\\xbf\\x90\",\"\\xe8\\xb5\\xb5\\xe5\\x8f\\x88\\xe5\\xbb\\xb7\",\"\\xe5\\xb0\\x8f\\xe7\\x94\\xb0\\xe5\\x88\\x87\\xe8\\xae\\xa9\",\"\\xe5\\xb8\\x95\\xe6\\x96\\xaf\\xe5\\x8d\\xa1\\xe5\\xb0\\x94\\xc2\\xb7\\xe6\\xa0\\xbc\\xe9\\x9b\\xb7\\xe6\\x88\\x88\\xe9\\x87\\x8c\",\"\\xe6\\xb1\\xa4\\xe5\\xa7\\x86\\xc2\\xb7\\xe6\\x8b\\x89\\xe6\\x96\\xaf\\xe9\\xbd\\x90\\xe5\\x93\\x88\"],\"cover\":\"https://img1.doubanio.com\\\\/view\\\\/photo\\\\/s_ratio_poster\\\\/public\\\\/p2681336608.jpg\",\"id\":\"26954859\",\"cover_y\":7000},{\"directors\":[\"\\xe9\\xbb\\x84\\xe4\\xb8\\x9c\\xe8\\xb5\\xab\"],\"rate\":\"7.6\",\"cover_x\":1500,\"star\":\"40\",\"title\":\"\\xe9\\xb1\\xbf\\xe9\\xb1\\xbc\\xe6\\xb8\\xb8\\xe6\\x88\\x8f \\xe7\\xac\\xac\\xe4\\xb8\\x80\\xe5\\xad\\xa3\",\"url\":\"https:\\\\/\\\\/movie.douban.com\\\\/subject\\\\/34812928\\\\/\",\"casts\":[\"\\xe6\\x9d\\x8e\\xe6\\x94\\xbf\\xe5\\xae\\xb0\",\"\\xe6\\x9c\\xb4\\xe6\\xb5\\xb7\\xe7\\xa7\\x80\",\"\\xe9\\xad\\x8f\\xe5\\x98\\x8f\\xe9\\x9a\\xbd\",\"\\xe5\\xad\\x94\\xe5\\x88\\x98\",\"\\xe6\\x9d\\x8e\\xe7\\xa7\\x89\\xe5\\xae\\xaa\"],\"cover\":\"https://img1.doubanio.com\\\\/view\\\\/photo\\\\/s_ratio_poster\\\\/public\\\\/p2677934359.jpg\",\"id\":\"34812928\",\"cover_y\":2222},{\"directors\":[\"\\xe5\\x90\\xb4\\xe4\\xba\\xac\",\"\\xe7\\xab\\xa0\\xe5\\xad\\x90\\xe6\\x80\\xa1\",\"\\xe5\\xbe\\x90\\xe5\\xb3\\xa5\",\"\\xe6\\xb2\\x88\\xe8\\x85\\xbe\"],\"rate\":\"6.5\",\"cover_x\":2857,\"star\":\"35\",\"title\":\"\\xe6\\x88\\x91\\xe5\\x92\\x8c\\xe6\\x88\\x91\\xe7\\x9a\\x84\\xe7\\x88\\xb6\\xe8\\xbe\\x88\",\"url\":\"https:\\\\/\\\\/movie.douban.com\\\\/subject\\\\/35294995\\\\/\",\"casts\":[\"\\xe5\\x90\\xb4\\xe4\\xba\\xac\",\"\\xe7\\xab\\xa0\\xe5\\xad\\x90\\xe6\\x80\\xa1\",\"\\xe5\\xbe\\x90\\xe5\\xb3\\xa5\",\"\\xe6\\xb2\\x88\\xe8\\x85\\xbe\",\"\\xe5\\x90\\xb4\\xe7\\xa3\\x8a\"],\"cover\":\"https://img2.doubanio.com\\\\/view\\\\/photo\\\\/s_ratio_poster\\\\/public\\\\/p2683055011.jpg\",\"id\":\"35294995\",\"cover_y\":4000},{\"directors\":[\"\\xe6\\x9f\\xb3\\xe6\\x98\\x87\\xe5\\xae\\x8c\"],\"rate\":\"8.1\",\"cover_x\":2000,\"star\":\"40\",\"title\":\"\\xe6\\x91\\xa9\\xe5\\x8a\\xa0\\xe8\\xbf\\xaa\\xe6\\xb2\\x99\",\"url\":\"https:\\\\/\\\\/movie.douban.com\\\\/subject\\\\/33457594\\\\/\",\"casts\":[\"\\xe9\\x87\\x91\\xe5\\x85\\x81\\xe7\\x9f\\xb3\",\"\\xe8\\xb5\\xb5\\xe5\\xaf\\x85\\xe6\\x88\\x90\",\"\\xe8\\xae\\xb8\\xe5\\xb3\\xbb\\xe8\\xb1\\xaa\",\"\\xe5\\x85\\xb7\\xe6\\x95\\x99\\xe7\\x84\\x95\",\"\\xe9\\x87\\x91\\xe7\\xb4\\xa0\\xe7\\x9c\\x9f\"],\"cover\":\"https://img9.doubanio.com\\\\/view\\\\/photo\\\\/s_ratio_poster\\\\/public\\\\/p2697816056.jpg\",\"id\":\"33457594\",\"cover_y\":2865},{\"directors\":[\"\\xe8\\xb0\\xad\\xe6\\x99\\x93\\xe8\\x99\\xb9\"],\"rate\":\"7.6\",\"cover_x\":1080,\"star\":\"40\",\"title\":\"\\xe8\\x84\\xb1\\xe5\\x8f\\xa3\\xe7\\xa7\\x80\\xe5\\xa4\\xa7\\xe4\\xbc\\x9a \\xe7\\xac\\xac\\xe5\\x9b\\x9b\\xe5\\xad\\xa3\",\"url\":\"https:\\\\/\\\\/movie.douban.com\\\\/subject\\\\/35206452\\\\/\",\"casts\":[\"\\xe6\\x9d\\x8e\\xe8\\xaf\\x9e\",\"\\xe5\\xa4\\xa7\\xe5\\xbc\\xa0\\xe4\\xbc\\x9f\",\"\\xe7\\xbd\\x97\\xe6\\xb0\\xb8\\xe6\\xb5\\xa9\",\"\\xe6\\x9d\\xa8\\xe6\\xbe\\x9c\",\"\\xe5\\xae\\x81\\xe9\\x9d\\x99\"],\"cover\":\"https://img2.doubanio.com\\\\/view\\\\/photo\\\\/s_ratio_poster\\\\/public\\\\/p2675827902.jpg\",\"id\":\"35206452\",\"cover_y\":1920},{\"directors\":[\"\\xe4\\xb8\\xb9\\xe5\\xb0\\xbc\\xe6\\x96\\xaf\\xc2\\xb7\\xe7\\xbb\\xb4\\xe4\\xbc\\xa6\\xe7\\xba\\xbd\\xe7\\x93\\xa6\"],\"rate\":\"7.7\",\"cover_x\":2764,\"star\":\"40\",\"title\":\"\\xe6\\xb2\\x99\\xe4\\xb8\\x98\",\"url\":\"https:\\\\/\\\\/movie.douban.com\\\\/subject\\\\/3001114\\\\/\",\"casts\":[\"\\xe8\\x92\\x82\\xe8\\x8e\\xab\\xe8\\xa5\\xbf\\xc2\\xb7\\xe6\\x9f\\xb4\\xe5\\x8b\\x92\\xe6\\xa2\\x85\\xe5\\xbe\\xb7\",\"\\xe4\\xb8\\xbd\\xe8\\xb4\\x9d\\xe5\\x8d\\xa1\\xc2\\xb7\\xe5\\xbc\\x97\\xe6\\xa0\\xbc\\xe6\\xa3\\xae\",\"\\xe5\\xa5\\xa5\\xe6\\x96\\xaf\\xe5\\x8d\\xa1\\xc2\\xb7\\xe4\\xbc\\x8a\\xe8\\x90\\xa8\\xe5\\x85\\x8b\",\"\\xe6\\x88\\xb4\\xe5\\xa4\\xab\\xc2\\xb7\\xe5\\xb7\\xb4\\xe8\\x92\\x82\\xe6\\x96\\xaf\\xe5\\xa1\\x94\",\"\\xe8\\xb5\\x9e\\xe8\\xbe\\xbe\\xe4\\xba\\x9a\"],\"cover\":\"https://img9.doubanio.com\\\\/view\\\\/photo\\\\/s_ratio_poster\\\\/public\\\\/p2687443734.jpg\",\"id\":\"3001114\",\"cover_y\":4096},{\"directors\":[\"\\xe8\\x82\\x96\\xe6\\x81\\xa9\\xc2\\xb7\\xe5\\x88\\xa9\\xe7\\xbb\\xb4\"],\"rate\":\"7.5\",\"cover_x\":1080,\"star\":\"40\",\"title\":\"\\xe5\\xa4\\xb1\\xe6\\x8e\\xa7\\xe7\\x8e\\xa9\\xe5\\xae\\xb6\",\"url\":\"https:\\\\/\\\\/movie.douban.com\\\\/subject\\\\/30337388\\\\/\",\"casts\":[\"\\xe7\\x91\\x9e\\xe5\\xae\\x89\\xc2\\xb7\\xe9\\x9b\\xb7\\xe8\\xaf\\xba\\xe5\\x85\\xb9\",\"\\xe6\\x9c\\xb1\\xe8\\xbf\\xaa\\xc2\\xb7\\xe7\\xa7\\x91\\xe9\\xbb\\x98\",\"\\xe4\\xb9\\x94\\xc2\\xb7\\xe5\\x9f\\xba\\xe7\\x91\\x9e\",\"\\xe9\\x87\\x8c\\xe5\\xb0\\x94\\xc2\\xb7\\xe8\\x8e\\xb1\\xe5\\xb0\\x94\\xc2\\xb7\\xe5\\x93\\x88\\xe7\\x93\\xa6\\xe7\\x91\\x9e\",\"\\xe5\\xa1\\x94\\xe4\\xbc\\x8a\\xe5\\x8a\\xa0\\xc2\\xb7\\xe7\\xbb\\xb4\\xe8\\xbf\\xaa\\xe6\\x8f\\x90\"],\"cover\":\"https://img9.doubanio.com\\\\/view\\\\/photo\\\\/s_ratio_poster\\\\/public\\\\/p2677520025.jpg\",\"id\":\"30337388\",\"cover_y\":1600},{\"directors\":[\"\\xe5\\xbc\\x97\\xe5\\x85\\xb0\\xe5\\x85\\x8b\\xc2\\xb7\\xe5\\xbe\\xb7\\xe6\\x8b\\x89\\xe9\\x82\\xa6\\xe7\\x89\\xb9\"],\"rate\":\"9.7\",\"cover_x\":2000,\"star\":\"50\",\"title\":\"\\xe8\\x82\\x96\\xe7\\x94\\xb3\\xe5\\x85\\x8b\\xe7\\x9a\\x84\\xe6\\x95\\x91\\xe8\\xb5\\x8e\",\"url\":\"https:\\\\/\\\\/movie.douban.com\\\\/subject\\\\/1292052\\\\/\",\"casts\":[\"\\xe8\\x92\\x82\\xe5\\xa7\\x86\\xc2\\xb7\\xe7\\xbd\\x97\\xe5\\xae\\xbe\\xe6\\x96\\xaf\",\"\\xe6\\x91\\xa9\\xe6\\xa0\\xb9\\xc2\\xb7\\xe5\\xbc\\x97\\xe9\\x87\\x8c\\xe6\\x9b\\xbc\",\"\\xe9\\xb2\\x8d\\xe5\\x8b\\x83\\xc2\\xb7\\xe5\\x86\\x88\\xe9\\xa1\\xbf\",\"\\xe5\\xa8\\x81\\xe5\\xbb\\x89\\xe5\\xa7\\x86\\xc2\\xb7\\xe8\\xb5\\x9b\\xe5\\xbe\\xb7\\xe5\\x8b\\x92\",\"\\xe5\\x85\\x8b\\xe5\\x85\\xb0\\xe8\\xa5\\xbf\\xc2\\xb7\\xe5\\xb8\\x83\\xe6\\x9c\\x97\"],\"cover\":\"https://img2.doubanio.com\\\\/view\\\\/photo\\\\/s_ratio_poster\\\\/public\\\\/p480747492.jpg\",\"id\":\"1292052\",\"cover_y\":2963},{\"directors\":[\"\\xe9\\x99\\x88\\xe9\\x95\\xbf\\xe7\\xba\\xb6\",\"\\xe4\\xb8\\xa5\\xe8\\x89\\xba\\xe6\\x96\\x87\"],\"rate\":\"9.3\",\"cover_x\":1462,\"star\":\"45\",\"title\":\"\\xe4\\xbf\\x97\\xe5\\xa5\\xb3\\xe5\\x85\\xbb\\xe6\\x88\\x90\\xe8\\xae\\xb02\",\"url\":\"https:\\\\/\\\\/movie.douban.com\\\\/subject\\\\/35215517\\\\/\",\"casts\":[\"\\xe8\\xb0\\xa2\\xe7\\x9b\\x88\\xe8\\x90\\xb1\",\"\\xe5\\x90\\xb4\\xe4\\xbb\\xa5\\xe6\\xb6\\xb5\",\"\\xe5\\xa4\\xa9\\xe5\\xbf\\x83\",\"\\xe5\\xa4\\x8f\\xe9\\x9d\\x96\\xe5\\xba\\xad\",\"\\xe6\\x9d\\xa8\\xe4\\xb8\\xbd\\xe9\\x9f\\xb3\"],\"cover\":\"https://img1.doubanio.com\\\\/view\\\\/photo\\\\/s_ratio_poster\\\\/public\\\\/p2676295767.jpg\",\"id\":\"35215517\",\"cover_y\":2048},{\"directors\":[\"\\xe6\\x96\\x87\\xe7\\x89\\xa7\\xe9\\x87\\x8e\"],\"rate\":\"9.0\",\"cover_x\":2810,\"star\":\"45\",\"title\":\"\\xe6\\x88\\x91\\xe4\\xb8\\x8d\\xe6\\x98\\xaf\\xe8\\x8d\\xaf\\xe7\\xa5\\x9e\",\"url\":\"https:\\\\/\\\\/movie.douban.com\\\\/subject\\\\/26752088\\\\/\",\"casts\":[\"\\xe5\\xbe\\x90\\xe5\\xb3\\xa5\",\"\\xe7\\x8e\\x8b\\xe4\\xbc\\xa0\\xe5\\x90\\x9b\",\"\\xe5\\x91\\xa8\\xe4\\xb8\\x80\\xe5\\x9b\\xb4\",\"\\xe8\\xb0\\xad\\xe5\\x8d\\x93\",\"\\xe7\\xab\\xa0\\xe5\\xae\\x87\"],\"cover\":\"https://img9.doubanio.com\\\\/view\\\\/photo\\\\/s_ratio_poster\\\\/public\\\\/p2561305376.jpg\",\"id\":\"26752088\",\"cover_y\":3937},{\"directors\":[\"\\xe6\\x9f\\xb3\\xe6\\xb5\\x8e\\xe5\\x85\\x83\"],\"rate\":\"8.6\",\"cover_x\":2000,\"star\":\"45\",\"title\":\"\\xe6\\xb5\\xb7\\xe5\\xb2\\xb8\\xe6\\x9d\\x91\\xe6\\x81\\xb0\\xe6\\x81\\xb0\\xe6\\x81\\xb0\",\"url\":\"https:\\\\/\\\\/movie.douban.com\\\\/subject\\\\/35296153\\\\/\",\"casts\":[\"\\xe7\\x94\\xb3\\xe6\\x95\\x8f\\xe5\\x84\\xbf\",\"\\xe9\\x87\\x91\\xe5\\xae\\xa3\\xe8\\x99\\x8e\",\"\\xe6\\x9d\\x8e\\xe7\\x9b\\xb8\\xe4\\xba\\x8c\",\"\\xe9\\x87\\x91\\xe8\\x8b\\xb1\\xe7\\x8e\\x89\",\"\\xe8\\xb5\\xb5\\xe6\\xb1\\x89\\xe5\\x93\\xb2\"],\"cover\":\"https://img9.doubanio.com\\\\/view\\\\/photo\\\\/s_ratio_poster\\\\/public\\\\/p2675934255.jpg\",\"id\":\"35296153\",\"cover_y\":2825},{\"directors\":[\"\\xe6\\x8b\\x9c\\xe4\\xbc\\xa6\\xc2\\xb7\\xe9\\x9c\\x8d\\xe5\\x8d\\x8e\\xe5\\xbe\\xb7\",\"\\xe7\\x91\\x9e\\xe5\\xa5\\x87\\xc2\\xb7\\xe6\\x91\\xa9\\xe5\\xb0\\x94\",\"\\xe6\\x9d\\xb0\\xe6\\x8b\\x89\\xe5\\xbe\\xb7\\xc2\\xb7\\xe5\\xb8\\x83\\xe4\\xbb\\x80\"],\"rate\":\"9.2\",\"cover_x\":1080,\"star\":\"45\",\"title\":\"\\xe7\\x96\\xaf\\xe7\\x8b\\x82\\xe5\\x8a\\xa8\\xe7\\x89\\xa9\\xe5\\x9f\\x8e\",\"url\":\"https:\\\\/\\\\/movie.douban.com\\\\/subject\\\\/25662329\\\\/\",\"casts\":[\"\\xe9\\x87\\x91\\xe5\\xa6\\xae\\xe5\\xbc\\x97\\xc2\\xb7\\xe5\\x8f\\xa4\\xe5\\xbe\\xb7\\xe6\\xb8\\xa9\",\"\\xe6\\x9d\\xb0\\xe6\\xa3\\xae\\xc2\\xb7\\xe8\\xb4\\x9d\\xe7\\x89\\xb9\\xe6\\x9b\\xbc\",\"\\xe4\\xbc\\x8a\\xe5\\xbe\\xb7\\xe9\\x87\\x8c\\xe6\\x96\\xaf\\xc2\\xb7\\xe8\\x89\\xbe\\xe5\\xb0\\x94\\xe5\\xb7\\xb4\",\"\\xe7\\x8f\\x8d\\xe5\\xa6\\xae\\xc2\\xb7\\xe6\\x96\\xaf\\xe8\\x95\\xbe\\xe7\\x89\\xb9\",\"\\xe5\\x86\\x85\\xe7\\x89\\xb9\\xc2\\xb7\\xe6\\x89\\x98\\xe4\\xbc\\xa6\\xe6\\x96\\xaf\"],\"cover\":\"https://img1.doubanio.com\\\\/view\\\\/photo\\\\/s_ratio_poster\\\\/public\\\\/p2614500649.jpg\",\"id\":\"25662329\",\"cover_y\":1663},{\"directors\":[\"\\xe5\\xae\\xab\\xe5\\xb4\\x8e\\xe9\\xaa\\x8f\"],\"rate\":\"9.4\",\"cover_x\":1080,\"star\":\"45\",\"title\":\"\\xe5\\x8d\\x83\\xe4\\xb8\\x8e\\xe5\\x8d\\x83\\xe5\\xaf\\xbb\",\"url\":\"https:\\\\/\\\\/movie.douban.com\\\\/subject\\\\/1291561\\\\/\",\"casts\":[\"\\xe6\\x9f\\x8a\\xe7\\x91\\xa0\\xe7\\xbe\\x8e\",\"\\xe5\\x85\\xa5\\xe9\\x87\\x8e\\xe8\\x87\\xaa\\xe7\\x94\\xb1\",\"\\xe5\\xa4\\x8f\\xe6\\x9c\\xa8\\xe7\\x9c\\x9f\\xe7\\x90\\x86\",\"\\xe8\\x8f\\x85\\xe5\\x8e\\x9f\\xe6\\x96\\x87\\xe5\\xa4\\xaa\",\"\\xe4\\xb8\\xad\\xe6\\x9d\\x91\\xe5\\xbd\\xb0\\xe7\\x94\\xb7\"],\"cover\":\"https://img1.doubanio.com\\\\/view\\\\/photo\\\\/s_ratio_poster\\\\/public\\\\/p2557573348.jpg\",\"id\":\"1291561\",\"cover_y\":1560},{\"directors\":[\"\\xe9\\x99\\x88\\xe6\\x9c\\xa8\\xe8\\x83\\x9c\"],\"rate\":\"7.2\",\"cover_x\":1429,\"star\":\"35\",\"title\":\"\\xe6\\x80\\x92\\xe7\\x81\\xab\\xc2\\xb7\\xe9\\x87\\x8d\\xe6\\xa1\\x88\",\"url\":\"https:\\\\/\\\\/movie.douban.com\\\\/subject\\\\/30174085\\\\/\",\"casts\":[\"\\xe7\\x94\\x84\\xe5\\xad\\x90\\xe4\\xb8\\xb9\",\"\\xe8\\xb0\\xa2\\xe9\\x9c\\x86\\xe9\\x94\\x8b\",\"\\xe7\\xa7\\xa6\\xe5\\xb2\\x9a\",\"\\xe8\\xb0\\xad\\xe8\\x80\\x80\\xe6\\x96\\x87\",\"\\xe9\\xbb\\x84\\xe5\\xbe\\xb7\\xe6\\x96\\x8c\"],\"cover\":\"https://img1.doubanio.com\\\\/view\\\\/photo\\\\/s_ratio_poster\\\\/public\\\\/p2673412189.jpg\",\"id\":\"30174085\",\"cover_y\":2000},{\"directors\":[\"\\xe9\\x99\\x88\\xe6\\xad\\xa3\\xe9\\x81\\x93\"],\"rate\":\"7.1\",\"cover_x\":1500,\"star\":\"35\",\"title\":\"\\xe7\\x9b\\x9b\\xe5\\xa4\\x8f\\xe6\\x9c\\xaa\\xe6\\x9d\\xa5\",\"url\":\"https:\\\\/\\\\/movie.douban.com\\\\/subject\\\\/35158124\\\\/\",\"casts\":[\"\\xe5\\xbc\\xa0\\xe5\\xad\\x90\\xe6\\x9e\\xab\",\"\\xe5\\x90\\xb4\\xe7\\xa3\\x8a\",\"\\xe9\\x83\\x9d\\xe8\\x95\\xbe\",\"\\xe7\\xa5\\x96\\xe5\\xb3\\xb0\",\"\\xe6\\x9f\\xb3\\xe5\\xb0\\x8f\\xe6\\xb5\\xb7\"],\"cover\":\"https://img1.doubanio.com\\\\/view\\\\/photo\\\\/s_ratio_poster\\\\/public\\\\/p2673420377.jpg\",\"id\":\"35158124\",\"cover_y\":2175},{\"directors\":[\"\\xe8\\xa9\\xb9\\xe5\\xa7\\x86\\xe6\\x96\\xaf\\xc2\\xb7\\xe5\\x8d\\xa1\\xe6\\xa2\\x85\\xe9\\x9a\\x86\"],\"rate\":\"9.4\",\"cover_x\":2015,\"star\":\"45\",\"title\":\"\\xe6\\xb3\\xb0\\xe5\\x9d\\xa6\\xe5\\xb0\\xbc\\xe5\\x85\\x8b\\xe5\\x8f\\xb7\",\"url\":\"https:\\\\/\\\\/movie.douban.com\\\\/subject\\\\/1292722\\\\/\",\"casts\":[\"\\xe8\\x8e\\xb1\\xe6\\x98\\x82\\xe7\\xba\\xb3\\xe5\\xa4\\x9a\\xc2\\xb7\\xe8\\xbf\\xaa\\xe5\\x8d\\xa1\\xe6\\x99\\xae\\xe9\\x87\\x8c\\xe5\\xa5\\xa5\",\"\\xe5\\x87\\xaf\\xe7\\x89\\xb9\\xc2\\xb7\\xe6\\xb8\\xa9\\xe4\\xb8\\x9d\\xe8\\x8e\\xb1\\xe7\\x89\\xb9\",\"\\xe6\\xaf\\x94\\xe5\\x88\\xa9\\xc2\\xb7\\xe8\\xb5\\x9e\\xe6\\x81\\xa9\",\"\\xe5\\x87\\xaf\\xe8\\xa5\\xbf\\xc2\\xb7\\xe8\\xb4\\x9d\\xe8\\x8c\\xa8\",\"\\xe5\\xbc\\x97\\xe5\\x85\\xb0\\xe8\\xa5\\xbf\\xe4\\xb8\\x9d\\xc2\\xb7\\xe8\\xb4\\xb9\\xe8\\x88\\x8d\"],\"cover\":\"https://img9.doubanio.com\\\\/view\\\\/photo\\\\/s_ratio_poster\\\\/public\\\\/p457760035.jpg\",\"id\":\"1292722\",\"cover_y\":3000},{\"directors\":[\"\\xe5\\x90\\x95\\xe5\\x85\\x8b\\xc2\\xb7\\xe8\\xb4\\x9d\\xe6\\x9d\\xbe\"],\"rate\":\"9.4\",\"cover_x\":658,\"star\":\"45\",\"title\":\"\\xe8\\xbf\\x99\\xe4\\xb8\\xaa\\xe6\\x9d\\x80\\xe6\\x89\\x8b\\xe4\\xb8\\x8d\\xe5\\xa4\\xaa\\xe5\\x86\\xb7\",\"url\":\"https:\\\\/\\\\/movie.douban.com\\\\/subject\\\\/1295644\\\\/\",\"casts\":[\"\\xe8\\xae\\xa9\\xc2\\xb7\\xe9\\x9b\\xb7\\xe8\\xaf\\xba\",\"\\xe5\\xa8\\x9c\\xe5\\xa1\\x94\\xe8\\x8e\\x89\\xc2\\xb7\\xe6\\xb3\\xa2\\xe7\\x89\\xb9\\xe6\\x9b\\xbc\",\"\\xe5\\x8a\\xa0\\xe9\\x87\\x8c\\xc2\\xb7\\xe5\\xa5\\xa5\\xe5\\xbe\\xb7\\xe6\\x9b\\xbc\",\"\\xe4\\xb8\\xb9\\xe5\\xb0\\xbc\\xc2\\xb7\\xe7\\x88\\xb1\\xe7\\xbd\\x97\",\"\\xe5\\xbd\\xbc\\xe5\\xbe\\x97\\xc2\\xb7\\xe9\\x98\\xbf\\xe4\\xbd\\xa9\\xe5\\xb0\\x94\"],\"cover\":\"https://img2.doubanio.com\\\\/view\\\\/photo\\\\/s_ratio_poster\\\\/public\\\\/p511118051.jpg\",\"id\":\"1295644\",\"cover_y\":980},{\"directors\":[\"\\xe7\\xbd\\x97\\xe4\\xbc\\xaf\\xe7\\x89\\xb9\\xc2\\xb7\\xe6\\xb3\\xbd\\xe7\\xb1\\xb3\\xe5\\x90\\x89\\xe6\\x96\\xaf\"],\"rate\":\"9.5\",\"cover_x\":1872,\"star\":\"50\",\"title\":\"\\xe9\\x98\\xbf\\xe7\\x94\\x98\\xe6\\xad\\xa3\\xe4\\xbc\\xa0\",\"url\":\"https:\\\\/\\\\/movie.douban.com\\\\/subject\\\\/1292720\\\\/\",\"casts\":[\"\\xe6\\xb1\\xa4\\xe5\\xa7\\x86\\xc2\\xb7\\xe6\\xb1\\x89\\xe5\\x85\\x8b\\xe6\\x96\\xaf\",\"\\xe7\\xbd\\x97\\xe5\\xae\\xbe\\xc2\\xb7\\xe6\\x80\\x80\\xe7\\x89\\xb9\",\"\\xe5\\x8a\\xa0\\xe9\\x87\\x8c\\xc2\\xb7\\xe8\\xa5\\xbf\\xe5\\xb0\\xbc\\xe6\\x96\\xaf\",\"\\xe9\\xba\\xa6\\xe5\\x87\\xaf\\xe5\\xb0\\x94\\xe6\\xb3\\xb0\\xc2\\xb7\\xe5\\xa8\\x81\\xe5\\xbb\\x89\\xe9\\x80\\x8a\",\"\\xe8\\x8e\\x8e\\xe8\\x8e\\x89\\xc2\\xb7\\xe8\\x8f\\xb2\\xe5\\xb0\\x94\\xe5\\xbe\\xb7\"],\"cover\":\"https://img2.doubanio.com\\\\/view\\\\/photo\\\\/s_ratio_poster\\\\/public\\\\/p2372307693.jpg\",\"id\":\"1292720\",\"cover_y\":2546},{\"directors\":[\"\\xe5\\x88\\x98\\xe4\\xbc\\x9f\\xe5\\xbc\\xba\"],\"rate\":\"6.9\",\"cover_x\":2126,\"star\":\"35\",\"title\":\"\\xe4\\xb8\\xad\\xe5\\x9b\\xbd\\xe5\\x8c\\xbb\\xe7\\x94\\x9f\",\"url\":\"https:\\\\/\\\\/movie.douban.com\\\\/subject\\\\/35087699\\\\/\",\"casts\":[\"\\xe5\\xbc\\xa0\\xe6\\xb6\\xb5\\xe4\\xba\\x88\",\"\\xe8\\xa2\\x81\\xe6\\xb3\\x89\",\"\\xe6\\x9c\\xb1\\xe4\\xba\\x9a\\xe6\\x96\\x87\",\"\\xe6\\x9d\\x8e\\xe6\\x99\\xa8\",\"\\xe6\\x98\\x93\\xe7\\x83\\x8a\\xe5\\x8d\\x83\\xe7\\x8e\\xba\"],\"cover\":\"https://img9.doubanio.com\\\\/view\\\\/photo\\\\/s_ratio_poster\\\\/public\\\\/p2666591984.jpg\",\"id\":\"35087699\",\"cover_y\":2976}]}'"
      ]
     },
     "execution_count": 18,
     "metadata": {},
     "output_type": "execute_result"
    }
   ],
   "source": [
    "resp.content"
   ]
  },
  {
   "cell_type": "code",
   "execution_count": 17,
   "metadata": {},
   "outputs": [
    {
     "data": {
      "text/plain": [
       "'{\"data\":[{\"directors\":[\"陈凯歌\",\"徐克\",\"林超贤\"],\"rate\":\"7.4\",\"cover_x\":1080,\"star\":\"35\",\"title\":\"长津湖\",\"url\":\"https:\\\\/\\\\/movie.douban.com\\\\/subject\\\\/25845392\\\\/\",\"casts\":[\"吴京\",\"易烊千玺\",\"段奕宏\",\"朱亚文\",\"李晨\"],\"cover\":\"https://img9.doubanio.com\\\\/view\\\\/photo\\\\/s_ratio_poster\\\\/public\\\\/p2681329386.jpg\",\"id\":\"25845392\",\"cover_y\":1513},{\"directors\":[\"娄烨\"],\"rate\":\"7.2\",\"cover_x\":4669,\"star\":\"35\",\"title\":\"兰心大剧院\",\"url\":\"https:\\\\/\\\\/movie.douban.com\\\\/subject\\\\/26954859\\\\/\",\"casts\":[\"巩俐\",\"赵又廷\",\"小田切让\",\"帕斯卡尔·格雷戈里\",\"汤姆·拉斯齐哈\"],\"cover\":\"https://img1.doubanio.com\\\\/view\\\\/photo\\\\/s_ratio_poster\\\\/public\\\\/p2681336608.jpg\",\"id\":\"26954859\",\"cover_y\":7000},{\"directors\":[\"黄东赫\"],\"rate\":\"7.6\",\"cover_x\":1500,\"star\":\"40\",\"title\":\"鱿鱼游戏 第一季\",\"url\":\"https:\\\\/\\\\/movie.douban.com\\\\/subject\\\\/34812928\\\\/\",\"casts\":[\"李政宰\",\"朴海秀\",\"魏嘏隽\",\"孔刘\",\"李秉宪\"],\"cover\":\"https://img1.doubanio.com\\\\/view\\\\/photo\\\\/s_ratio_poster\\\\/public\\\\/p2677934359.jpg\",\"id\":\"34812928\",\"cover_y\":2222},{\"directors\":[\"吴京\",\"章子怡\",\"徐峥\",\"沈腾\"],\"rate\":\"6.5\",\"cover_x\":2857,\"star\":\"35\",\"title\":\"我和我的父辈\",\"url\":\"https:\\\\/\\\\/movie.douban.com\\\\/subject\\\\/35294995\\\\/\",\"casts\":[\"吴京\",\"章子怡\",\"徐峥\",\"沈腾\",\"吴磊\"],\"cover\":\"https://img2.doubanio.com\\\\/view\\\\/photo\\\\/s_ratio_poster\\\\/public\\\\/p2683055011.jpg\",\"id\":\"35294995\",\"cover_y\":4000},{\"directors\":[\"柳昇完\"],\"rate\":\"8.1\",\"cover_x\":2000,\"star\":\"40\",\"title\":\"摩加迪沙\",\"url\":\"https:\\\\/\\\\/movie.douban.com\\\\/subject\\\\/33457594\\\\/\",\"casts\":[\"金允石\",\"赵寅成\",\"许峻豪\",\"具教焕\",\"金素真\"],\"cover\":\"https://img9.doubanio.com\\\\/view\\\\/photo\\\\/s_ratio_poster\\\\/public\\\\/p2697816056.jpg\",\"id\":\"33457594\",\"cover_y\":2865},{\"directors\":[\"谭晓虹\"],\"rate\":\"7.6\",\"cover_x\":1080,\"star\":\"40\",\"title\":\"脱口秀大会 第四季\",\"url\":\"https:\\\\/\\\\/movie.douban.com\\\\/subject\\\\/35206452\\\\/\",\"casts\":[\"李诞\",\"大张伟\",\"罗永浩\",\"杨澜\",\"宁静\"],\"cover\":\"https://img2.doubanio.com\\\\/view\\\\/photo\\\\/s_ratio_poster\\\\/public\\\\/p2675827902.jpg\",\"id\":\"35206452\",\"cover_y\":1920},{\"directors\":[\"丹尼斯·维伦纽瓦\"],\"rate\":\"7.7\",\"cover_x\":2764,\"star\":\"40\",\"title\":\"沙丘\",\"url\":\"https:\\\\/\\\\/movie.douban.com\\\\/subject\\\\/3001114\\\\/\",\"casts\":[\"蒂莫西·柴勒梅德\",\"丽贝卡·弗格森\",\"奥斯卡·伊萨克\",\"戴夫·巴蒂斯塔\",\"赞达亚\"],\"cover\":\"https://img9.doubanio.com\\\\/view\\\\/photo\\\\/s_ratio_poster\\\\/public\\\\/p2687443734.jpg\",\"id\":\"3001114\",\"cover_y\":4096},{\"directors\":[\"肖恩·利维\"],\"rate\":\"7.5\",\"cover_x\":1080,\"star\":\"40\",\"title\":\"失控玩家\",\"url\":\"https:\\\\/\\\\/movie.douban.com\\\\/subject\\\\/30337388\\\\/\",\"casts\":[\"瑞安·雷诺兹\",\"朱迪·科默\",\"乔·基瑞\",\"里尔·莱尔·哈瓦瑞\",\"塔伊加·维迪提\"],\"cover\":\"https://img9.doubanio.com\\\\/view\\\\/photo\\\\/s_ratio_poster\\\\/public\\\\/p2677520025.jpg\",\"id\":\"30337388\",\"cover_y\":1600},{\"directors\":[\"弗兰克·德拉邦特\"],\"rate\":\"9.7\",\"cover_x\":2000,\"star\":\"50\",\"title\":\"肖申克的救赎\",\"url\":\"https:\\\\/\\\\/movie.douban.com\\\\/subject\\\\/1292052\\\\/\",\"casts\":[\"蒂姆·罗宾斯\",\"摩根·弗里曼\",\"鲍勃·冈顿\",\"威廉姆·赛德勒\",\"克兰西·布朗\"],\"cover\":\"https://img2.doubanio.com\\\\/view\\\\/photo\\\\/s_ratio_poster\\\\/public\\\\/p480747492.jpg\",\"id\":\"1292052\",\"cover_y\":2963},{\"directors\":[\"陈长纶\",\"严艺文\"],\"rate\":\"9.3\",\"cover_x\":1462,\"star\":\"45\",\"title\":\"俗女养成记2\",\"url\":\"https:\\\\/\\\\/movie.douban.com\\\\/subject\\\\/35215517\\\\/\",\"casts\":[\"谢盈萱\",\"吴以涵\",\"天心\",\"夏靖庭\",\"杨丽音\"],\"cover\":\"https://img1.doubanio.com\\\\/view\\\\/photo\\\\/s_ratio_poster\\\\/public\\\\/p2676295767.jpg\",\"id\":\"35215517\",\"cover_y\":2048},{\"directors\":[\"文牧野\"],\"rate\":\"9.0\",\"cover_x\":2810,\"star\":\"45\",\"title\":\"我不是药神\",\"url\":\"https:\\\\/\\\\/movie.douban.com\\\\/subject\\\\/26752088\\\\/\",\"casts\":[\"徐峥\",\"王传君\",\"周一围\",\"谭卓\",\"章宇\"],\"cover\":\"https://img9.doubanio.com\\\\/view\\\\/photo\\\\/s_ratio_poster\\\\/public\\\\/p2561305376.jpg\",\"id\":\"26752088\",\"cover_y\":3937},{\"directors\":[\"柳济元\"],\"rate\":\"8.6\",\"cover_x\":2000,\"star\":\"45\",\"title\":\"海岸村恰恰恰\",\"url\":\"https:\\\\/\\\\/movie.douban.com\\\\/subject\\\\/35296153\\\\/\",\"casts\":[\"申敏儿\",\"金宣虎\",\"李相二\",\"金英玉\",\"赵汉哲\"],\"cover\":\"https://img9.doubanio.com\\\\/view\\\\/photo\\\\/s_ratio_poster\\\\/public\\\\/p2675934255.jpg\",\"id\":\"35296153\",\"cover_y\":2825},{\"directors\":[\"拜伦·霍华德\",\"瑞奇·摩尔\",\"杰拉德·布什\"],\"rate\":\"9.2\",\"cover_x\":1080,\"star\":\"45\",\"title\":\"疯狂动物城\",\"url\":\"https:\\\\/\\\\/movie.douban.com\\\\/subject\\\\/25662329\\\\/\",\"casts\":[\"金妮弗·古德温\",\"杰森·贝特曼\",\"伊德里斯·艾尔巴\",\"珍妮·斯蕾特\",\"内特·托伦斯\"],\"cover\":\"https://img1.doubanio.com\\\\/view\\\\/photo\\\\/s_ratio_poster\\\\/public\\\\/p2614500649.jpg\",\"id\":\"25662329\",\"cover_y\":1663},{\"directors\":[\"宫崎骏\"],\"rate\":\"9.4\",\"cover_x\":1080,\"star\":\"45\",\"title\":\"千与千寻\",\"url\":\"https:\\\\/\\\\/movie.douban.com\\\\/subject\\\\/1291561\\\\/\",\"casts\":[\"柊瑠美\",\"入野自由\",\"夏木真理\",\"菅原文太\",\"中村彰男\"],\"cover\":\"https://img1.doubanio.com\\\\/view\\\\/photo\\\\/s_ratio_poster\\\\/public\\\\/p2557573348.jpg\",\"id\":\"1291561\",\"cover_y\":1560},{\"directors\":[\"陈木胜\"],\"rate\":\"7.2\",\"cover_x\":1429,\"star\":\"35\",\"title\":\"怒火·重案\",\"url\":\"https:\\\\/\\\\/movie.douban.com\\\\/subject\\\\/30174085\\\\/\",\"casts\":[\"甄子丹\",\"谢霆锋\",\"秦岚\",\"谭耀文\",\"黄德斌\"],\"cover\":\"https://img1.doubanio.com\\\\/view\\\\/photo\\\\/s_ratio_poster\\\\/public\\\\/p2673412189.jpg\",\"id\":\"30174085\",\"cover_y\":2000},{\"directors\":[\"陈正道\"],\"rate\":\"7.1\",\"cover_x\":1500,\"star\":\"35\",\"title\":\"盛夏未来\",\"url\":\"https:\\\\/\\\\/movie.douban.com\\\\/subject\\\\/35158124\\\\/\",\"casts\":[\"张子枫\",\"吴磊\",\"郝蕾\",\"祖峰\",\"柳小海\"],\"cover\":\"https://img1.doubanio.com\\\\/view\\\\/photo\\\\/s_ratio_poster\\\\/public\\\\/p2673420377.jpg\",\"id\":\"35158124\",\"cover_y\":2175},{\"directors\":[\"詹姆斯·卡梅隆\"],\"rate\":\"9.4\",\"cover_x\":2015,\"star\":\"45\",\"title\":\"泰坦尼克号\",\"url\":\"https:\\\\/\\\\/movie.douban.com\\\\/subject\\\\/1292722\\\\/\",\"casts\":[\"莱昂纳多·迪卡普里奥\",\"凯特·温丝莱特\",\"比利·赞恩\",\"凯西·贝茨\",\"弗兰西丝·费舍\"],\"cover\":\"https://img9.doubanio.com\\\\/view\\\\/photo\\\\/s_ratio_poster\\\\/public\\\\/p457760035.jpg\",\"id\":\"1292722\",\"cover_y\":3000},{\"directors\":[\"吕克·贝松\"],\"rate\":\"9.4\",\"cover_x\":658,\"star\":\"45\",\"title\":\"这个杀手不太冷\",\"url\":\"https:\\\\/\\\\/movie.douban.com\\\\/subject\\\\/1295644\\\\/\",\"casts\":[\"让·雷诺\",\"娜塔莉·波特曼\",\"加里·奥德曼\",\"丹尼·爱罗\",\"彼得·阿佩尔\"],\"cover\":\"https://img2.doubanio.com\\\\/view\\\\/photo\\\\/s_ratio_poster\\\\/public\\\\/p511118051.jpg\",\"id\":\"1295644\",\"cover_y\":980},{\"directors\":[\"罗伯特·泽米吉斯\"],\"rate\":\"9.5\",\"cover_x\":1872,\"star\":\"50\",\"title\":\"阿甘正传\",\"url\":\"https:\\\\/\\\\/movie.douban.com\\\\/subject\\\\/1292720\\\\/\",\"casts\":[\"汤姆·汉克斯\",\"罗宾·怀特\",\"加里·西尼斯\",\"麦凯尔泰·威廉逊\",\"莎莉·菲尔德\"],\"cover\":\"https://img2.doubanio.com\\\\/view\\\\/photo\\\\/s_ratio_poster\\\\/public\\\\/p2372307693.jpg\",\"id\":\"1292720\",\"cover_y\":2546},{\"directors\":[\"刘伟强\"],\"rate\":\"6.9\",\"cover_x\":2126,\"star\":\"35\",\"title\":\"中国医生\",\"url\":\"https:\\\\/\\\\/movie.douban.com\\\\/subject\\\\/35087699\\\\/\",\"casts\":[\"张涵予\",\"袁泉\",\"朱亚文\",\"李晨\",\"易烊千玺\"],\"cover\":\"https://img9.doubanio.com\\\\/view\\\\/photo\\\\/s_ratio_poster\\\\/public\\\\/p2666591984.jpg\",\"id\":\"35087699\",\"cover_y\":2976}]}'"
      ]
     },
     "execution_count": 17,
     "metadata": {},
     "output_type": "execute_result"
    }
   ],
   "source": [
    "# 可能存在乱码，编码解码方式不匹配，可以设置字符集\n",
    "resp.encoding = 'utf-8'  # 设置字符集后，resp.text会以 utf-8 解码resp.content的内容\n",
    "resp.text  # 拿到response的结果的字符串形式"
   ]
  },
  {
   "cell_type": "code",
   "execution_count": 11,
   "metadata": {},
   "outputs": [
    {
     "name": "stdout",
     "output_type": "stream",
     "text": [
      "{'data': [{'directors': ['陈凯歌', '徐克', '林超贤'], 'rate': '7.4', 'cover_x': 1080, 'star': '35', 'title': '长津湖', 'url': 'https://movie.douban.com/subject/25845392/', 'casts': ['吴京', '易烊千玺', '段奕宏', '朱亚文', '李晨'], 'cover': 'https://img9.doubanio.com/view/photo/s_ratio_poster/public/p2681329386.jpg', 'id': '25845392', 'cover_y': 1513}, {'directors': ['娄烨'], 'rate': '7.2', 'cover_x': 4669, 'star': '35', 'title': '兰心大剧院', 'url': 'https://movie.douban.com/subject/26954859/', 'casts': ['巩俐', '赵又廷', '小田切让', '帕斯卡尔·格雷戈里', '汤姆·拉斯齐哈'], 'cover': 'https://img1.doubanio.com/view/photo/s_ratio_poster/public/p2681336608.jpg', 'id': '26954859', 'cover_y': 7000}, {'directors': ['黄东赫'], 'rate': '7.6', 'cover_x': 1500, 'star': '40', 'title': '鱿鱼游戏 第一季', 'url': 'https://movie.douban.com/subject/34812928/', 'casts': ['李政宰', '朴海秀', '魏嘏隽', '孔刘', '李秉宪'], 'cover': 'https://img1.doubanio.com/view/photo/s_ratio_poster/public/p2677934359.jpg', 'id': '34812928', 'cover_y': 2222}, {'directors': ['吴京', '章子怡', '徐峥', '沈腾'], 'rate': '6.5', 'cover_x': 2857, 'star': '35', 'title': '我和我的父辈', 'url': 'https://movie.douban.com/subject/35294995/', 'casts': ['吴京', '章子怡', '徐峥', '沈腾', '吴磊'], 'cover': 'https://img2.doubanio.com/view/photo/s_ratio_poster/public/p2683055011.jpg', 'id': '35294995', 'cover_y': 4000}, {'directors': ['柳昇完'], 'rate': '8.1', 'cover_x': 2000, 'star': '40', 'title': '摩加迪沙', 'url': 'https://movie.douban.com/subject/33457594/', 'casts': ['金允石', '赵寅成', '许峻豪', '具教焕', '金素真'], 'cover': 'https://img9.doubanio.com/view/photo/s_ratio_poster/public/p2697816056.jpg', 'id': '33457594', 'cover_y': 2865}, {'directors': ['谭晓虹'], 'rate': '7.6', 'cover_x': 1080, 'star': '40', 'title': '脱口秀大会 第四季', 'url': 'https://movie.douban.com/subject/35206452/', 'casts': ['李诞', '大张伟', '罗永浩', '杨澜', '宁静'], 'cover': 'https://img2.doubanio.com/view/photo/s_ratio_poster/public/p2675827902.jpg', 'id': '35206452', 'cover_y': 1920}, {'directors': ['丹尼斯·维伦纽瓦'], 'rate': '7.7', 'cover_x': 2764, 'star': '40', 'title': '沙丘', 'url': 'https://movie.douban.com/subject/3001114/', 'casts': ['蒂莫西·柴勒梅德', '丽贝卡·弗格森', '奥斯卡·伊萨克', '戴夫·巴蒂斯塔', '赞达亚'], 'cover': 'https://img9.doubanio.com/view/photo/s_ratio_poster/public/p2687443734.jpg', 'id': '3001114', 'cover_y': 4096}, {'directors': ['肖恩·利维'], 'rate': '7.5', 'cover_x': 1080, 'star': '40', 'title': '失控玩家', 'url': 'https://movie.douban.com/subject/30337388/', 'casts': ['瑞安·雷诺兹', '朱迪·科默', '乔·基瑞', '里尔·莱尔·哈瓦瑞', '塔伊加·维迪提'], 'cover': 'https://img9.doubanio.com/view/photo/s_ratio_poster/public/p2677520025.jpg', 'id': '30337388', 'cover_y': 1600}, {'directors': ['弗兰克·德拉邦特'], 'rate': '9.7', 'cover_x': 2000, 'star': '50', 'title': '肖申克的救赎', 'url': 'https://movie.douban.com/subject/1292052/', 'casts': ['蒂姆·罗宾斯', '摩根·弗里曼', '鲍勃·冈顿', '威廉姆·赛德勒', '克兰西·布朗'], 'cover': 'https://img2.doubanio.com/view/photo/s_ratio_poster/public/p480747492.jpg', 'id': '1292052', 'cover_y': 2963}, {'directors': ['陈长纶', '严艺文'], 'rate': '9.3', 'cover_x': 1462, 'star': '45', 'title': '俗女养成记2', 'url': 'https://movie.douban.com/subject/35215517/', 'casts': ['谢盈萱', '吴以涵', '天心', '夏靖庭', '杨丽音'], 'cover': 'https://img1.doubanio.com/view/photo/s_ratio_poster/public/p2676295767.jpg', 'id': '35215517', 'cover_y': 2048}, {'directors': ['文牧野'], 'rate': '9.0', 'cover_x': 2810, 'star': '45', 'title': '我不是药神', 'url': 'https://movie.douban.com/subject/26752088/', 'casts': ['徐峥', '王传君', '周一围', '谭卓', '章宇'], 'cover': 'https://img9.doubanio.com/view/photo/s_ratio_poster/public/p2561305376.jpg', 'id': '26752088', 'cover_y': 3937}, {'directors': ['柳济元'], 'rate': '8.6', 'cover_x': 2000, 'star': '45', 'title': '海岸村恰恰恰', 'url': 'https://movie.douban.com/subject/35296153/', 'casts': ['申敏儿', '金宣虎', '李相二', '金英玉', '赵汉哲'], 'cover': 'https://img9.doubanio.com/view/photo/s_ratio_poster/public/p2675934255.jpg', 'id': '35296153', 'cover_y': 2825}, {'directors': ['拜伦·霍华德', '瑞奇·摩尔', '杰拉德·布什'], 'rate': '9.2', 'cover_x': 1080, 'star': '45', 'title': '疯狂动物城', 'url': 'https://movie.douban.com/subject/25662329/', 'casts': ['金妮弗·古德温', '杰森·贝特曼', '伊德里斯·艾尔巴', '珍妮·斯蕾特', '内特·托伦斯'], 'cover': 'https://img1.doubanio.com/view/photo/s_ratio_poster/public/p2614500649.jpg', 'id': '25662329', 'cover_y': 1663}, {'directors': ['宫崎骏'], 'rate': '9.4', 'cover_x': 1080, 'star': '45', 'title': '千与千寻', 'url': 'https://movie.douban.com/subject/1291561/', 'casts': ['柊瑠美', '入野自由', '夏木真理', '菅原文太', '中村彰男'], 'cover': 'https://img1.doubanio.com/view/photo/s_ratio_poster/public/p2557573348.jpg', 'id': '1291561', 'cover_y': 1560}, {'directors': ['陈木胜'], 'rate': '7.2', 'cover_x': 1429, 'star': '35', 'title': '怒火·重案', 'url': 'https://movie.douban.com/subject/30174085/', 'casts': ['甄子丹', '谢霆锋', '秦岚', '谭耀文', '黄德斌'], 'cover': 'https://img1.doubanio.com/view/photo/s_ratio_poster/public/p2673412189.jpg', 'id': '30174085', 'cover_y': 2000}, {'directors': ['陈正道'], 'rate': '7.1', 'cover_x': 1500, 'star': '35', 'title': '盛夏未来', 'url': 'https://movie.douban.com/subject/35158124/', 'casts': ['张子枫', '吴磊', '郝蕾', '祖峰', '柳小海'], 'cover': 'https://img1.doubanio.com/view/photo/s_ratio_poster/public/p2673420377.jpg', 'id': '35158124', 'cover_y': 2175}, {'directors': ['詹姆斯·卡梅隆'], 'rate': '9.4', 'cover_x': 2015, 'star': '45', 'title': '泰坦尼克号', 'url': 'https://movie.douban.com/subject/1292722/', 'casts': ['莱昂纳多·迪卡普里奥', '凯特·温丝莱特', '比利·赞恩', '凯西·贝茨', '弗兰西丝·费舍'], 'cover': 'https://img9.doubanio.com/view/photo/s_ratio_poster/public/p457760035.jpg', 'id': '1292722', 'cover_y': 3000}, {'directors': ['吕克·贝松'], 'rate': '9.4', 'cover_x': 658, 'star': '45', 'title': '这个杀手不太冷', 'url': 'https://movie.douban.com/subject/1295644/', 'casts': ['让·雷诺', '娜塔莉·波特曼', '加里·奥德曼', '丹尼·爱罗', '彼得·阿佩尔'], 'cover': 'https://img2.doubanio.com/view/photo/s_ratio_poster/public/p511118051.jpg', 'id': '1295644', 'cover_y': 980}, {'directors': ['罗伯特·泽米吉斯'], 'rate': '9.5', 'cover_x': 1872, 'star': '50', 'title': '阿甘正传', 'url': 'https://movie.douban.com/subject/1292720/', 'casts': ['汤姆·汉克斯', '罗宾·怀特', '加里·西尼斯', '麦凯尔泰·威廉逊', '莎莉·菲尔德'], 'cover': 'https://img2.doubanio.com/view/photo/s_ratio_poster/public/p2372307693.jpg', 'id': '1292720', 'cover_y': 2546}, {'directors': ['刘伟强'], 'rate': '6.9', 'cover_x': 2126, 'star': '35', 'title': '中国医生', 'url': 'https://movie.douban.com/subject/35087699/', 'casts': ['张涵予', '袁泉', '朱亚文', '李晨', '易烊千玺'], 'cover': 'https://img9.doubanio.com/view/photo/s_ratio_poster/public/p2666591984.jpg', 'id': '35087699', 'cover_y': 2976}]}\n",
      "<class 'dict'>\n"
     ]
    }
   ],
   "source": [
    "d =  resp.json()  # 请求返回的数据是json格式，可以通过.json直接转为python内置类型字典\n",
    "print(d)\n",
    "print(type(d))"
   ]
  }
 ],
 "metadata": {
  "kernelspec": {
   "display_name": "Python 3",
   "language": "python",
   "name": "python3"
  },
  "language_info": {
   "codemirror_mode": {
    "name": "ipython",
    "version": 3
   },
   "file_extension": ".py",
   "mimetype": "text/x-python",
   "name": "python",
   "nbconvert_exporter": "python",
   "pygments_lexer": "ipython3",
   "version": "3.8.5"
  }
 },
 "nbformat": 4,
 "nbformat_minor": 4
}
