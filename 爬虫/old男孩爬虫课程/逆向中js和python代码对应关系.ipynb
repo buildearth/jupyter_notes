{
 "cells": [
  {
   "cell_type": "code",
   "execution_count": null,
   "metadata": {},
   "outputs": [],
   "source": []
  },
  {
   "cell_type": "markdown",
   "metadata": {},
   "source": [
    "# AES对称加密中"
   ]
  },
  {
   "cell_type": "markdown",
   "metadata": {},
   "source": [
    "1.\n",
    "```\n",
    "js 代码， 作用是对字符串进行utf-8编码\n",
    "E.enc.Utf8.parse(\"funshionfunshion\")\n",
    "\n",
    "对应python\n",
    "\"funshionfunshion\".encode('utf-8')\n",
    "```"
   ]
  },
  {
   "cell_type": "markdown",
   "metadata": {},
   "source": [
    "2.\n",
    "```\n",
    "// js 代码，其作用是加密后，将加密之后的结果(加密之后结果是字节),通过ciphertext转为16进制，再将16进制str成字符串\n",
    "function S(e) { // AES对称加密\n",
    "    var t = E.enc.Utf8.parse(e);  // 是将字符进行utf-8编码，对应python中的 e.encode('utf-8')\n",
    "    return E.AES.encrypt(t, L, {  // t是加密的内容，L是key， 对象是加密的参数  L=E.enc.Utf8.parse(\"bUYJ3nTV6VBasdJF\")\n",
    "        iv: x,  //x = E.enc.Utf8.parse(\"funshionfunshion\");\n",
    "        mode: E.mode.CBC,  // CBC\n",
    "        padding: E.pad.ZeroPadding\n",
    "    }).ciphertext.toString().toUpperCase()  // ciphertext 是将加密后的字节转为16进制的字符串，python中是 import binascii binascii.b2a_hex\n",
    "}\n",
    "\n",
    "1. ciphertext的功能是，将字节转为16进制，然后再str转为字符串，用于网络传输，其转换思路是：\n",
    "一个bytes是 01011101 是一个字节，四个bit位可以标示一个16进制，16进制的数字是 0-9 ABCDEF, 所以就转换成了 5d ，5d可以转为字符串\"5d\"就可以用于网络传输了，\n",
    "\n",
    "// ciphertext 对应python代码\n",
    "binascii.b2a_hex(mi) # 将bytes转为16进制的字符串， binascii.a2b_base64 是将16进制的字符串转为字节\n",
    "\n",
    "2. padding是填充逻辑，因为CBC加密时，数据必须是16的倍数\n",
    "padding: E.pad.ZeroPadding  是用0的ascii码值来填充，\n",
    "\n",
    "对应python代码\n",
    "pad_len = 16 - len(mes) % 16\n",
    "mes += (pad_len * chr(0)).encode(\"utf-8\")\n",
    "\n",
    "\n",
    "3. 上述AES加密整体替换为python代码\n",
    "\n",
    "from Crypto.Cipher import AES\n",
    "import base64\n",
    "import binascii\n",
    "iv = base64.b64decode(\"funshionfunshion\")  # js中的iv\n",
    "mes = \"19876546371\".encode('utf-8')  # js中的e\n",
    "# print(key)\n",
    "\n",
    "obj = AES.new(key=\"bUYJ3nTV6VBasdJF\".encode('utf-8'), mode=AES.MODE_CBC, IV='funshionfunshion'.encode('utf-8'))\n",
    "pad_len = 16 - len(mes) % 16\n",
    "mes += (pad_len * chr(0)).encode(\"utf-8\")\n",
    "mi = obj.encrypt(mes)\n",
    "\n",
    "mi_str = binascii.b2a_hex(mi).upper()\n",
    "\n",
    "```"
   ]
  },
  {
   "cell_type": "markdown",
   "metadata": {},
   "source": [
    "3\n",
    "```js\n",
    "function a(s){\n",
    "    return s+\"hello\"\n",
    "}\n",
    "\n",
    "Object(a)(e).substr(0, 15) // 等价于 a(e).substr(0,15)\n",
    "\n",
    "// Object(一个函数对象)，还是一个函数\n",
    "```"
   ]
  }
 ],
 "metadata": {
  "kernelspec": {
   "display_name": "Python 3",
   "language": "python",
   "name": "python3"
  },
  "language_info": {
   "codemirror_mode": {
    "name": "ipython",
    "version": 3
   },
   "file_extension": ".py",
   "mimetype": "text/x-python",
   "name": "python",
   "nbconvert_exporter": "python",
   "pygments_lexer": "ipython3",
   "version": "3.8.5"
  }
 },
 "nbformat": 4,
 "nbformat_minor": 4
}
