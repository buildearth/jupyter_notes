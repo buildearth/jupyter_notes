{
 "cells": [
  {
   "attachments": {},
   "cell_type": "markdown",
   "metadata": {},
   "source": [
    "# 金融的基本知识"
   ]
  },
  {
   "cell_type": "markdown",
   "metadata": {},
   "source": [
    "金融的一些概念\n",
    "    \n",
    "    金融： 就是对现有资源进行重新整合之后，实现价值和利润的等效流通。\n",
    "    金融工具： 在金融市场中可交易的金融资产，有股票、期货、黄金、基金等。\n",
    "    \n",
    "\n",
    "黄金：钱多了，黄金就值钱了；黄金多了，黄金价格就降了。如果发现一个金矿，黄金就多了，其价格也会降。\n",
    "基金：就是把钱给投资经理，让其帮忙选择去投资。\n",
    "\n",
    "公司上市：企业通过证券交易所公开向社会增发股票以募集资金。\n",
    "    \n",
    "   "
   ]
  },
  {
   "cell_type": "markdown",
   "metadata": {},
   "source": [
    "# 股票的分类"
   ]
  },
  {
   "cell_type": "markdown",
   "metadata": {},
   "source": [
    "按业绩分类：\n",
    "- 蓝筹股： 资本雄厚、信誉优良的公司的股票\n",
    "- 绩优股： 业绩优良的公司股票\n",
    "- ST股： 特别处理股票，连续两年亏损或每股净资产低于股票面值\n",
    "\n",
    "按上市地区分类：\n",
    "- A股：中国大陆上市，人民币购买\n",
    "- B股：中国大陆上市，外币购买\n",
    "- H股：中国香港上市\n",
    "- N股：美国纽约上市\n",
    "- S股：新加坡上市\n",
    "- ..."
   ]
  },
  {
   "cell_type": "markdown",
   "metadata": {},
   "source": [
    "# 与python的结合"
   ]
  },
  {
   "cell_type": "markdown",
   "metadata": {},
   "source": [
    "python数据处理相关模块：\n",
    "- Numpy 数组的批量计算\n",
    "- pandas 灵活的表计算\n",
    "- matplotlib 数据可视化"
   ]
  },
  {
   "cell_type": "markdown",
   "metadata": {},
   "source": [
    "进行量化投资：\n",
    "- 自己编写：numpy+pandas+matplotlib\n",
    "- 在线平台：聚宽、优矿、米筐、Quantopian\n",
    "- 开源框架：RQAlpha、QUANTAXIS"
   ]
  }
 ],
 "metadata": {
  "kernelspec": {
   "display_name": "Python 3",
   "language": "python",
   "name": "python3"
  },
  "language_info": {
   "codemirror_mode": {
    "name": "ipython",
    "version": 3
   },
   "file_extension": ".py",
   "mimetype": "text/x-python",
   "name": "python",
   "nbconvert_exporter": "python",
   "pygments_lexer": "ipython3",
   "version": "3.8.5"
  }
 },
 "nbformat": 4,
 "nbformat_minor": 4
}
