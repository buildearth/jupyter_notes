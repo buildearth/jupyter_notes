{
 "cells": [
  {
   "cell_type": "markdown",
   "metadata": {},
   "source": [
    "# numpy简介"
   ]
  },
  {
   "cell_type": "markdown",
   "metadata": {},
   "source": [
    "numpy是高性能科学计算和数据分析的基础包，是pandas等其他工具的基础。\n",
    "\n",
    "numpy的主要功能：\n",
    "- 一个多维数组结构，高效且节省空间\n",
    "- 无需循环对数组数据进行快速运算的数学函数\n",
    "- 线性代数、随机数生成和傅里叶变换功能\n",
    "\n",
    "安装： pip insall numpy"
   ]
  },
  {
   "cell_type": "markdown",
   "metadata": {},
   "source": [
    "# array 基础"
   ]
  },
  {
   "cell_type": "markdown",
   "metadata": {},
   "source": [
    "数组和列表的区别：\n",
    "- 数组对象内的元素类型必须相同\n",
    "- 数组大小不可修改"
   ]
  },
  {
   "cell_type": "markdown",
   "metadata": {},
   "source": [
    "常见数据类型\n",
    "```\n",
    "bool 用一位存储的布尔类型（值为TRUE或FALSE）\n",
    "inti 由所在平台决定其精度的整数（一般为int32或int64）\n",
    "int8 整数，范围为\n",
    "int16 整数，范围为\n",
    "int32 整数，范围为\n",
    "int64 整数，范围为\n",
    "uint8 无符号整数，范围为0至255\n",
    "uint16 无符号整数，范围为0至2**16 - 1\n",
    "uint32 无符号整数，范围为0至2**32 -1\n",
    "uint64 无符号整数，范围为0至2**64 - 1\n",
    "float16 半精度浮点数（16位）：其中用1位表示正负号，5位表示指数，10位表示尾数\n",
    "float32 单精度浮点数（32位）：其中用1位表示正负号，8位表示指数，23位表示尾数\n",
    "float64或float 双精度浮点数（64位）：其中用1位表示正负号，11位表示指数，52位表示尾数\n",
    "complex64 复数，分别用两个32位浮点数表示实部和虚部\n",
    "complex128或complex 复数，分别用两个64位浮点数表示实部和虚部\n",
    "```"
   ]
  },
  {
   "cell_type": "markdown",
   "metadata": {},
   "source": [
    "常用属性：\n",
    "```python\n",
    "import numpy as np\n",
    "\n",
    "# 创建\n",
    "np.array([1,2,3,4])\n",
    "a = np.array(range(10))  # 一维数组\n",
    "b = np.array([[1,2,3],[4,5,6]])  # 多维数组\n",
    "\n",
    "# 查看元素类型 \n",
    "a.dtype\n",
    "\n",
    "# 元素个数\n",
    "a.size\n",
    "\n",
    "# 查看数组的维度大小\n",
    "# 二维可以理解为本子的一页，三位可以理解为一个本子。\n",
    "a.shape  # 返回结果有一个元素是一位数组，也就是说，几个元素就是几维数组\n",
    "\n",
    "# 查看数组维度\n",
    "a.ndim  # 直接输出数组是几维的\n",
    "\n",
    "# 数组的转置， 行变为列，列变为行\n",
    "a.T\n",
    "\n",
    "# 求数组所有元素之和\n",
    "a.sum()\n",
    "```"
   ]
  },
  {
   "cell_type": "code",
   "execution_count": 1,
   "metadata": {},
   "outputs": [],
   "source": [
    "import numpy as np"
   ]
  },
  {
   "cell_type": "code",
   "execution_count": 2,
   "metadata": {},
   "outputs": [],
   "source": [
    "import random"
   ]
  },
  {
   "cell_type": "code",
   "execution_count": 6,
   "metadata": {},
   "outputs": [],
   "source": [
    "a = [random.uniform(100.0, 200) for i in range(50)]"
   ]
  },
  {
   "cell_type": "code",
   "execution_count": 9,
   "metadata": {},
   "outputs": [
    {
     "data": {
      "text/plain": [
       "array([237.81034688, 286.95596096, 169.04101849, 235.40252367,\n",
       "       153.8388414 , 206.33977955, 284.30267125, 249.56255435,\n",
       "       177.3282329 , 169.1898231 , 204.53759857, 273.39184453,\n",
       "       187.83966031, 162.1317901 , 162.87833427, 223.38954831,\n",
       "       204.26566837, 227.2009083 , 240.30783818, 250.38182632,\n",
       "       155.33207421, 165.01223864, 181.72387272, 283.36537637,\n",
       "       187.89056397, 151.98276452, 293.46362479, 285.56314913,\n",
       "       209.35259563, 230.63441651, 285.97099039, 234.73187951,\n",
       "       227.34509952, 169.40208159, 183.34750393, 262.46218867,\n",
       "       163.88435994, 234.44618127, 169.80462744, 158.43595841,\n",
       "       200.50043504, 286.60898835, 205.14837905, 260.30686182,\n",
       "       162.76870079, 263.53453053, 244.92005611, 187.31919511,\n",
       "       195.89742909, 174.59930659])"
      ]
     },
     "execution_count": 9,
     "metadata": {},
     "output_type": "execute_result"
    }
   ],
   "source": [
    "a = np.array(a)\n",
    "a*1.5 # 将所有的元素都乘1.5"
   ]
  },
  {
   "cell_type": "code",
   "execution_count": 11,
   "metadata": {},
   "outputs": [
    {
     "data": {
      "text/plain": [
       "7147.901466326487"
      ]
     },
     "execution_count": 11,
     "metadata": {},
     "output_type": "execute_result"
    }
   ],
   "source": [
    "a.sum()"
   ]
  },
  {
   "cell_type": "code",
   "execution_count": 12,
   "metadata": {},
   "outputs": [
    {
     "data": {
      "text/plain": [
       "dtype('float64')"
      ]
     },
     "execution_count": 12,
     "metadata": {},
     "output_type": "execute_result"
    }
   ],
   "source": [
    "a.dtype"
   ]
  },
  {
   "cell_type": "code",
   "execution_count": 14,
   "metadata": {},
   "outputs": [
    {
     "data": {
      "text/plain": [
       "(50,)"
      ]
     },
     "execution_count": 14,
     "metadata": {},
     "output_type": "execute_result"
    }
   ],
   "source": [
    "a.shape"
   ]
  },
  {
   "cell_type": "code",
   "execution_count": 15,
   "metadata": {},
   "outputs": [
    {
     "data": {
      "text/plain": [
       "1"
      ]
     },
     "execution_count": 15,
     "metadata": {},
     "output_type": "execute_result"
    }
   ],
   "source": [
    "a.ndim"
   ]
  },
  {
   "cell_type": "code",
   "execution_count": 22,
   "metadata": {},
   "outputs": [
    {
     "name": "stdout",
     "output_type": "stream",
     "text": [
      "2\n"
     ]
    },
    {
     "data": {
      "text/plain": [
       "21"
      ]
     },
     "execution_count": 22,
     "metadata": {},
     "output_type": "execute_result"
    }
   ],
   "source": [
    "b = np.array([[1,2,3],[4,5,6]])\n",
    "print(b.ndim)\n",
    "b.sum()"
   ]
  }
 ],
 "metadata": {
  "kernelspec": {
   "display_name": "Python 3",
   "language": "python",
   "name": "python3"
  },
  "language_info": {
   "codemirror_mode": {
    "name": "ipython",
    "version": 3
   },
   "file_extension": ".py",
   "mimetype": "text/x-python",
   "name": "python",
   "nbconvert_exporter": "python",
   "pygments_lexer": "ipython3",
   "version": "3.8.5"
  }
 },
 "nbformat": 4,
 "nbformat_minor": 4
}
