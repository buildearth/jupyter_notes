{
 "cells": [
  {
   "cell_type": "markdown",
   "metadata": {},
   "source": [
    "# flask知识点简要"
   ]
  },
  {
   "cell_type": "markdown",
   "metadata": {},
   "source": [
    "- Flask和Django框架\n",
    "- flask快速入门\n",
    "- 配置文件\n",
    "- 路由系统\n",
    "- 模板语言\n",
    "- 请求&响应相关\n",
    "- \n",
    "\n",
    "网址：https://www.cnblogs.com/wupeiqi/articles/7552008.html"
   ]
  },
  {
   "cell_type": "markdown",
   "metadata": {},
   "source": [
    "# flask快速入门"
   ]
  },
  {
   "cell_type": "markdown",
   "metadata": {},
   "source": [
    "Flask是一个基于Python开发并且依赖jinja2模板和Werkzeug WSGI服务的一个框架，Werkzeug本质是Socket服务端，用于接收http请求并对请求进行预处理，然后触发Flask框架，开发人员基于Flask框架提供的功能对请求进行相应的处理，并返回给用户，如果要返回给用户复杂的内容时，需要借助jinja2模板来实现对模板的处理，即：将模板和数据进行渲染，将渲染后的字符串返回给用户浏览器。"
   ]
  },
  {
   "cell_type": "markdown",
   "metadata": {},
   "source": [
    "## 利用Werkzeug实现一个网页"
   ]
  },
  {
   "cell_type": "code",
   "execution_count": null,
   "metadata": {},
   "outputs": [],
   "source": [
    " from werkzeug.wrappers import Request, Response\n",
    "\n",
    "\n",
    "@Request.application\n",
    "def hello(request):\n",
    "    return Response('Hello World!')\n",
    "\n",
    "\n",
    "if __name__ == '__main__':\n",
    "    from werkzeug.serving import run_simple\n",
    "    # 任何请求进来会调用和hello这个函数\n",
    "    run_simple('localhost', 4000, hello)"
   ]
  },
  {
   "cell_type": "markdown",
   "metadata": {},
   "source": [
    "## Werkzeug的本质是socket"
   ]
  },
  {
   "cell_type": "code",
   "execution_count": null,
   "metadata": {},
   "outputs": [],
   "source": [
    "import socket\n",
    "\n",
    "\n",
    "def handle_request(client):\n",
    "    # buf = client.recv(1024)\n",
    "    client.send(b\"HTTP/1.1 200 OK\\r\\n\\r\\n\")\n",
    "    client.send(b\"Hello socket\")\n",
    "\n",
    "\n",
    "def main():\n",
    "    sock = socket.socket(socket.AF_INET, socket.SOCK_STREAM)\n",
    "    sock.bind(('localhost', 8010))\n",
    "    sock.listen(5)\n",
    "    while True:\n",
    "        connection, address = sock.accept()\n",
    "        print(address)\n",
    "        handle_request(connection)\n",
    "        connection.close()\n",
    "\n",
    "\n",
    "if __name__ == \"__main__\":\n",
    "    main()"
   ]
  },
  {
   "cell_type": "markdown",
   "metadata": {},
   "source": [
    "## Flask 快速实现网页"
   ]
  },
  {
   "cell_type": "code",
   "execution_count": null,
   "metadata": {},
   "outputs": [],
   "source": [
    "from flask import Flask\n",
    "\n",
    "app = Flask(__name__)\n",
    "\n",
    "# 将'/' 和 函数hello_world的对应关系添加到路由中。\n",
    "@app.route('/')\n",
    "def hello_world():\n",
    "    return 'Hello world'\n",
    "\n",
    "if __name__ == \"__main__\":\n",
    "    # 监听用户请求，如果用户请求进来，执行app的__call__方法\n",
    "    app.run()\n"
   ]
  },
  {
   "cell_type": "markdown",
   "metadata": {},
   "source": [
    "request的属性：https://blog.csdn.net/u011146423/article/details/88191225"
   ]
  },
  {
   "cell_type": "markdown",
   "metadata": {},
   "source": [
    "```python\n",
    "from flask import Flask, render_template, request, redirect\n",
    "\n",
    "@app.route('detail/<int:nid>', methods=[\"GET\"])\n",
    "def detail(nid):\n",
    "    return render_template('detail.html', user_dict=USERS)\n",
    "\n",
    "\n",
    "```"
   ]
  },
  {
   "cell_type": "markdown",
   "metadata": {},
   "source": [
    "# 蓝图"
   ]
  },
  {
   "cell_type": "markdown",
   "metadata": {},
   "source": [
    "一个网站不可能只有一个py文件，蓝图就是实现像django一样由多个文件组成 ，有一定的项目目录结构。"
   ]
  },
  {
   "cell_type": "markdown",
   "metadata": {},
   "source": [
    "## 小型应用例子"
   ]
  },
  {
   "attachments": {
    "image-2.png": {
     "image/png": "[encoded data removed]"
    }
   },
   "cell_type": "markdown",
   "metadata": {},
   "source": [
    "目录结构：\n",
    "![image-2.png](attachment:image-2.png)"
   ]
  },
  {
   "cell_type": "markdown",
   "metadata": {},
   "source": [
    "pro_flask/run.py\n",
    "```python\n",
    "from pro_flask import app\n",
    "\n",
    "\n",
    "if __name__ == '__main__':\n",
    "    app.run()\n",
    "\n",
    "```"
   ]
  },
  {
   "cell_type": "markdown",
   "metadata": {},
   "source": [
    "pro_flask/pro_flask/`__init__.py`\n",
    "```python\n",
    "#!/usr/bin/env python\n",
    "# -*- coding:utf-8 -*-\n",
    "from flask import Flask\n",
    "\n",
    "app = Flask(__name__,template_folder='templates',static_folder='statics',static_url_path='/static')\n",
    "\n",
    "from .views.account import account\n",
    "from .views.blog import blog\n",
    "from .views.user import user\n",
    "\n",
    "# 每个蓝图之间相互独立，互相不影响， 由app来统一分发路由到对应的蓝图\n",
    "app.register_blueprint(account)\n",
    "app.register_blueprint(blog)\n",
    "app.register_blueprint(user)\n",
    "\n",
    "```\n",
    "\n",
    "一个views目录下的一个py文件是一个蓝图"
   ]
  },
  {
   "cell_type": "markdown",
   "metadata": {},
   "source": [
    "pro_flask/pro_flask/views/account.py\n",
    "```python\n",
    "#!/usr/bin/env python\n",
    "# -*- coding:utf-8 -*-\n",
    "from flask import Blueprint\n",
    "from flask import render_template\n",
    "from flask import request\n",
    "\n",
    "account = Blueprint('account', __name__)\n",
    "\n",
    "# 蓝图叫account，下面函数明不能有叫account的\n",
    "@account.route('/login.html', methods=['GET', \"POST\"])\n",
    "def login():\n",
    "    return render_template('login.html')\n",
    "\n",
    "```"
   ]
  },
  {
   "cell_type": "markdown",
   "metadata": {},
   "source": [
    "pro_flask/pro_flask/views/blog.py\n",
    "```python\n",
    "#!/usr/bin/env python\n",
    "# -*- coding:utf-8 -*-\n",
    "from flask import Blueprint\n",
    "\n",
    "blog = Blueprint('blog', __name__)\n",
    "```\n",
    "pro_flask/pro_flask/views/user.py\n",
    "```python\n",
    "#!/usr/bin/env python\n",
    "# -*- coding:utf-8 -*-\n",
    "from flask import Blueprint\n",
    "\n",
    "blog = Blueprint('blog', __name__)\n",
    "```"
   ]
  },
  {
   "cell_type": "markdown",
   "metadata": {},
   "source": [
    "pro_flask/pro_flask/templates/login.html\n",
    "```html\n",
    "<!DOCTYPE html>\n",
    "<html lang=\"en\">\n",
    "<head>\n",
    "    <meta charset=\"UTF-8\">\n",
    "    <title>Title</title>\n",
    "</head>\n",
    "<body>\n",
    "\n",
    "<h1>用户登录</h1>\n",
    "<form method=\"POST\">\n",
    "    <input type=\"text\" name=\"user\"/>\n",
    "    <input type=\"submit\" value=\"提交\"/>\n",
    "</form>\n",
    "\n",
    "<img src=\"/static/code.png\">\n",
    "\n",
    "<img src=\"{{ url_for('static',filename='code.png') }}\">\n",
    "\n",
    "</body>\n",
    "</html>\n",
    "```"
   ]
  }
 ],
 "metadata": {
  "kernelspec": {
   "display_name": "Python 3",
   "language": "python",
   "name": "python3"
  },
  "language_info": {
   "codemirror_mode": {
    "name": "ipython",
    "version": 3
   },
   "file_extension": ".py",
   "mimetype": "text/x-python",
   "name": "python",
   "nbconvert_exporter": "python",
   "pygments_lexer": "ipython3",
   "version": "3.8.5"
  }
 },
 "nbformat": 4,
 "nbformat_minor": 4
}
