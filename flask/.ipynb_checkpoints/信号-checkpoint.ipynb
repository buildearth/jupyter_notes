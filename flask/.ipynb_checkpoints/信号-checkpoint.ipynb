{
 "cells": [
  {
   "cell_type": "markdown",
   "metadata": {},
   "source": [
    "# 简介"
   ]
  },
  {
   "cell_type": "markdown",
   "metadata": {},
   "source": [
    "[官方文档](https://dormousehole.readthedocs.io/en/latest/signals.html)\n",
    "\n",
    "Flask框架中的信号基于blinker，其主要就是让开发者可是在flask请求过程中定制一些用户行为，如记录用户行为，登录记录等，和请求扩展的功能类似，不过请求扩展是基于装饰器实现的，其两者的执行顺序也是不同的。\n"
   ]
  },
  {
   "cell_type": "markdown",
   "metadata": {},
   "source": [
    "安装： `pip install blinker`"
   ]
  },
  {
   "cell_type": "markdown",
   "metadata": {},
   "source": [
    "# 信号的简单使用"
   ]
  },
  {
   "cell_type": "code",
   "execution_count": 1,
   "metadata": {},
   "outputs": [
    {
     "name": "stdout",
     "output_type": "stream",
     "text": [
      " * Serving Flask app \"__main__\" (lazy loading)\n",
      " * Environment: production\n",
      "   WARNING: This is a development server. Do not use it in a production deployment.\n",
      "   Use a production WSGI server instead.\n",
      " * Debug mode: off\n"
     ]
    },
    {
     "name": "stderr",
     "output_type": "stream",
     "text": [
      " * Running on http://127.0.0.1:5000/ (Press CTRL+C to quit)\n",
      "127.0.0.1 - - [27/Mar/2022 10:47:18] \"\u001b[37mGET / HTTP/1.1\u001b[0m\" 200 -\n"
     ]
    },
    {
     "name": "stdout",
     "output_type": "stream",
     "text": [
      "信号1 (<Flask '__main__'>,) {}\n",
      "index\n"
     ]
    }
   ],
   "source": [
    "from flask import Flask, signals\n",
    "\n",
    "app = Flask(__name__)\n",
    "\n",
    "# 信号函数\n",
    "def single1(*args, **kwargs):\n",
    "    print(\"信号1\", args, kwargs)\n",
    "\n",
    "# 给信号注册函数，在信号条件达到式触发，内置信号自动触发\n",
    "signals.request_started.connect(single1)\n",
    "\n",
    "@app.route('/')\n",
    "def index():\n",
    "    print('index')\n",
    "    return \"index\"\n",
    "\n",
    "\n",
    "if __name__ == \"__main__\":\n",
    "    app.run()"
   ]
  },
  {
   "cell_type": "markdown",
   "metadata": {},
   "source": [
    "# 内置信号"
   ]
  },
  {
   "cell_type": "markdown",
   "metadata": {},
   "source": [
    "内置信号，会在请求进入或者返回的某一个点自动触发执行。\n",
    "```python\n",
    "request_started = _signals.signal('request-started')                # 请求到来前执行\n",
    "request_finished = _signals.signal('request-finished')              # 请求结束后执行\n",
    " \n",
    "before_render_template = _signals.signal('before-render-template')  # 模板渲染前执行\n",
    "template_rendered = _signals.signal('template-rendered')            # 模板渲染后执行\n",
    " \n",
    "got_request_exception = _signals.signal('got-request-exception')    # 请求执行出现异常时执行\n",
    " \n",
    "request_tearing_down = _signals.signal('request-tearing-down')      # 请求执行完毕后自动执行（无论成功与否）\n",
    "appcontext_tearing_down = _signals.signal('appcontext-tearing-down')# 应用上下文执行完毕后自动执行（无论成功与否）\n",
    " \n",
    "appcontext_pushed = _signals.signal('appcontext-pushed')            # 应用上下文push时执行\n",
    "appcontext_popped = _signals.signal('appcontext-popped')            # 应用上下文pop时执行\n",
    "message_flashed = _signals.signal('message-flashed')                # 调用flask在其中添加数据时，自动触发\n",
    "```"
   ]
  },
  {
   "cell_type": "markdown",
   "metadata": {},
   "source": [
    "# 信号执行的三要素"
   ]
  },
  {
   "cell_type": "markdown",
   "metadata": {},
   "source": [
    "- 信号存在，创建信号 _signals.signal\n",
    "- 信号注册执行函数，connect进行注册\n",
    "- 信号触发，请求过程中自动触发(内置信号)或者手动触发(自定义信号的send方法)"
   ]
  },
  {
   "cell_type": "markdown",
   "metadata": {},
   "source": [
    "# 自定义信号"
   ]
  },
  {
   "cell_type": "markdown",
   "metadata": {},
   "source": [
    "**普通信号**"
   ]
  },
  {
   "cell_type": "markdown",
   "metadata": {},
   "source": [
    "```python\n",
    "from flask.signals import _signals\n",
    "# 自定义信号\n",
    "xxxxx = _signals.signal('xxxxx')\n",
    "\n",
    "def func(sender, *args, **kwargs):\n",
    "    print(sender)\n",
    "\n",
    "# 自定义信号中注册函数\n",
    "xxxxx.connect(func)\n",
    "\n",
    "# 触发信号\n",
    "xxxxx.send('123123', k1='v1')\n",
    "```"
   ]
  },
  {
   "cell_type": "markdown",
   "metadata": {},
   "source": [
    "代码演示"
   ]
  },
  {
   "cell_type": "code",
   "execution_count": 2,
   "metadata": {},
   "outputs": [
    {
     "name": "stdout",
     "output_type": "stream",
     "text": [
      " * Serving Flask app \"__main__\" (lazy loading)\n",
      " * Environment: production\n",
      "   WARNING: This is a development server. Do not use it in a production deployment.\n",
      "   Use a production WSGI server instead.\n",
      " * Debug mode: off\n"
     ]
    },
    {
     "name": "stderr",
     "output_type": "stream",
     "text": [
      " * Running on http://127.0.0.1:5000/ (Press CTRL+C to quit)\n",
      "127.0.0.1 - - [27/Mar/2022 11:08:20] \"\u001b[37mGET / HTTP/1.1\u001b[0m\" 200 -\n"
     ]
    },
    {
     "name": "stdout",
     "output_type": "stream",
     "text": [
      "信号1 (<Flask '__main__'>,) {}\n",
      "[1, 2, 3] {'data': {'a': 1}}\n",
      "index\n"
     ]
    }
   ],
   "source": [
    "from flask import Flask, signals\n",
    "from flask.signals import _signals\n",
    "\n",
    "app = Flask(__name__)\n",
    "\n",
    "m_sgl = _signals.signal(\"m_sgl\")\n",
    "\n",
    "\n",
    "def m_sgl_test1(sender, **kwargs):\n",
    "    print(sender, kwargs)\n",
    "\n",
    "\n",
    "m_sgl.connect(m_sgl_test1)\n",
    "\n",
    "@app.route('/')\n",
    "def index():\n",
    "    m_sgl.send([1, 2, 3], data={\"a\": 1})\n",
    "    print('index')\n",
    "    return \"index\"\n",
    "\n",
    "\n",
    "if __name__ == \"__main__\":\n",
    "    app.run()"
   ]
  },
  {
   "cell_type": "markdown",
   "metadata": {},
   "source": [
    "**使用命名空间的信号**"
   ]
  },
  {
   "cell_type": "markdown",
   "metadata": {},
   "source": [
    "```python\n",
    "from blinker import Namespace  \n",
    "# Namespace的作用：为了防止多人开发的时候，信号名字冲突的问题\n",
    "zlspace = Namespace()\n",
    "fire_signal = zlspace.signal('fire')\n",
    "```"
   ]
  },
  {
   "cell_type": "markdown",
   "metadata": {},
   "source": [
    "# 内置信号和请求扩展的触发顺序"
   ]
  },
  {
   "cell_type": "markdown",
   "metadata": {},
   "source": [
    "- befor_first_request 请求扩展\n",
    "- request_started 信号\n",
    "- before_request 请求扩展\n",
    "- before_render_template 信号\n",
    "- template_rendered 信号\n",
    "- after_request 请求扩展\n",
    "- request_finished 信号\n",
    "- 如果上述过程出错，触发错误处理信号  got_request_exception "
   ]
  },
  {
   "cell_type": "markdown",
   "metadata": {},
   "source": [
    "# 源码阅读"
   ]
  },
  {
   "cell_type": "markdown",
   "metadata": {},
   "source": [
    "请求进来执行的app的`__call__`方法，从请求的入口进行分析，在`__call__`中调用的是wsgi_app方法"
   ]
  },
  {
   "cell_type": "markdown",
   "metadata": {},
   "source": [
    "入口\n",
    "```python\n",
    "class Flask(_PackageBoundObject):\n",
    "    def wsgi_app(self, environ: dict, start_response: t.Callable) -> t.Any:\n",
    "        # ############### 上下文 ###############\n",
    "        ctx = self.request_context(environ)\n",
    "        error: t.Optional[BaseException] = None\n",
    "        try:\n",
    "            try:\n",
    "                ctx.push()\n",
    "                # ############### 请求处理过程 ###############\n",
    "                response = self.full_dispatch_request()\n",
    "            except Exception as e:\n",
    "                error = e\n",
    "                # ############### 请求处理过程中出现异常的处理 ###############\n",
    "                response = self.handle_exception(e)\n",
    "            except:  # noqa: B001\n",
    "                error = sys.exc_info()[1]\n",
    "                raise\n",
    "            # ############### 返回response ###############\n",
    "            return response(environ, start_response)\n",
    "        finally:\n",
    "            if self.should_ignore_error(error):\n",
    "                error = None\n",
    "            ctx.auto_pop(error)\n",
    "```"
   ]
  },
  {
   "cell_type": "markdown",
   "metadata": {},
   "source": [
    "request_started\n",
    "```python\n",
    "class Flask(_PackageBoundObject):\n",
    "\n",
    "    def full_dispatch_request(self):\n",
    "        # ###############1. befor_first_request 请求扩展 ###############\n",
    "        self.try_trigger_before_first_request_functions()\n",
    "        try:\n",
    "            # ###############2. 触发request_started 信号 ###############\n",
    "            request_started.send(self)\n",
    "            # ###############3. before_request 请求扩展 ###############\n",
    "            rv = self.preprocess_request()\n",
    "            if rv is None:\n",
    "                rv = self.dispatch_request()\n",
    "        except Exception as e:\n",
    "            rv = self.handle_user_exception(e)\n",
    "        response = self.make_response(rv)\n",
    "\n",
    "        # ###############6. request_finished 信号 ###############\n",
    "        return self.finalize_request(rv)\n",
    "    \n",
    "     def full_dispatch_request(self) -> Response:\n",
    "        self.try_trigger_before_first_request_functions()\n",
    "        try:\n",
    "            request_started.send(self)\n",
    "            rv = self.preprocess_request()\n",
    "            if rv is None:\n",
    "                rv = self.dispatch_request()\n",
    "        except Exception as e:\n",
    "            rv = self.handle_user_exception(e)\n",
    "        \n",
    "    \n",
    "    \n",
    "    def try_trigger_before_first_request_functions(self) -> None:\n",
    "        ###1.1 用一个flag来判断是否是第一条进来的请求，如果不是直接return\n",
    "        if self._got_first_request:\n",
    "            return\n",
    "        with self._before_request_lock:\n",
    "            if self._got_first_request:\n",
    "                return\n",
    "            for func in self.before_first_request_funcs:\n",
    "                ###1.2 执行befor_first_request 请求扩展的所有函数\n",
    "                self.ensure_sync(func)()\n",
    "            ###1.3 当第一条请求执行完，将flag设置为True，后续的请求直接return\n",
    "            self._got_first_request = True\n",
    "            \n",
    "    \n",
    "    def preprocess_request(self) -> t.Optional[ResponseReturnValue]:\n",
    "        names = (None, *reversed(request.blueprints))\n",
    "\n",
    "        for name in names:\n",
    "            if name in self.url_value_preprocessors:\n",
    "                for url_func in self.url_value_preprocessors[name]:\n",
    "                    url_func(request.endpoint, request.view_args)\n",
    "\n",
    "        for name in names:\n",
    "            if name in self.before_request_funcs:\n",
    "                for before_func in self.before_request_funcs[name]:\n",
    "                    ### 3.1 执行before_request请求扩展所有函数\n",
    "                    rv = self.ensure_sync(before_func)()\n",
    "\n",
    "                    if rv is not None:\n",
    "                        return rv\n",
    "\n",
    "        return None\n",
    "    \n",
    "     def finalize_request(\n",
    "        self,\n",
    "        rv: t.Union[ResponseReturnValue, HTTPException],\n",
    "        from_error_handler: bool = False,\n",
    "    ) -> Response:\n",
    "        response = self.make_response(rv)\n",
    "        try:\n",
    "            # ###############6.1 ###############\n",
    "            response = self.process_response(response)\n",
    "            # ###############6.2 request_finished 信号 ###############\n",
    "            request_finished.send(self, response=response)\n",
    "        except Exception:\n",
    "            if not from_error_handler:\n",
    "                raise\n",
    "            self.logger.exception(\n",
    "                \"Request finalizing failed with an error while handling an error\"\n",
    "            )\n",
    "        return response\n",
    "    \n",
    "    \n",
    "    def process_response(self, response: Response) -> Response:\n",
    "        ctx = _request_ctx_stack.top\n",
    "\n",
    "        for func in ctx._after_request_functions:\n",
    "            response = self.ensure_sync(func)(response)\n",
    "\n",
    "        for name in chain(request.blueprints, (None,)):\n",
    "            if name in self.after_request_funcs:\n",
    "                # ###############6.1.1 after_request请求扩展###############\n",
    "                for func in reversed(self.after_request_funcs[name]):\n",
    "                    response = self.ensure_sync(func)(response)\n",
    "\n",
    "        if not self.session_interface.is_null_session(ctx.session):\n",
    "            # ###############6.1.2 save_session() ###############\n",
    "            self.session_interface.save_session(self, ctx.session, response)\n",
    "\n",
    "        return response\n",
    "```"
   ]
  },
  {
   "cell_type": "markdown",
   "metadata": {},
   "source": [
    "```python\n",
    "def render_template(\n",
    "    template_name_or_list: t.Union[str, t.List[str]], **context: t.Any\n",
    ") -> str:\n",
    "    ctx = _app_ctx_stack.top\n",
    "    ctx.app.update_template_context(context)\n",
    "    return _render(\n",
    "        ctx.app.jinja_env.get_or_select_template(template_name_or_list),\n",
    "        context,\n",
    "        ctx.app,\n",
    "    )\n",
    "\n",
    "def _render(template: Template, context: dict, app: \"Flask\") -> str:\n",
    "    # ###############4. before_render_template 信号 ###############\n",
    "    before_render_template.send(app, template=template, context=context)\n",
    "    rv = template.render(context)\n",
    "    # ###############5. template_rendered 信号 ###############\n",
    "    template_rendered.send(app, template=template, context=context)\n",
    "    return rv\n",
    "```"
   ]
  }
 ],
 "metadata": {
  "kernelspec": {
   "display_name": "Python 3",
   "language": "python",
   "name": "python3"
  },
  "language_info": {
   "codemirror_mode": {
    "name": "ipython",
    "version": 3
   },
   "file_extension": ".py",
   "mimetype": "text/x-python",
   "name": "python",
   "nbconvert_exporter": "python",
   "pygments_lexer": "ipython3",
   "version": "3.8.5"
  }
 },
 "nbformat": 4,
 "nbformat_minor": 4
}
