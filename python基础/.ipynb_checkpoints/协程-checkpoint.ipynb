{
 "cells": [
  {
   "cell_type": "markdown",
   "metadata": {},
   "source": [
    "# 多线程没有发挥全部实力"
   ]
  },
  {
   "cell_type": "markdown",
   "metadata": {},
   "source": [
    " 多线程的某一个线程中并没有完全利用到cpu的资源(分配给该线程的时间片)。"
   ]
  },
  {
   "cell_type": "markdown",
   "metadata": {},
   "source": [
    "如一个爬虫程序，有五个线程去请求网络上的url，就拿第一个线程来分析：\n",
    "1. cpu调度到第一个线程，开始执行\n",
    "2. 执行到requests.get(url),线程等待服务端的响应，此时该线程啥也不干就干等，cpu肯定不会为啥也不干的线程分配资源\n",
    "3. cpu去执行其他进程的线程，或者调度第二个爬虫线程\n",
    "\n",
    "当第2步时，cpu分配的时间片并没有执行完，cpu就去执行其他任务了，没有完全利用到cpu分配的时间片，所有cpu没有充分利用。\n",
    "\n",
    "当等待到服务端响应的数据之后，该线程才会继续往下执行(等待cpu调度执行)。"
   ]
  },
  {
   "cell_type": "markdown",
   "metadata": {},
   "source": [
    "单线程并没有一直在运行，有很多时间都在摸鱼(等待服务端响应的过程中)。"
   ]
  },
  {
   "cell_type": "markdown",
   "metadata": {},
   "source": [
    "向服务器发送请求和服务响应接受数据，这个过程叫IO。在IO时，cpu不会为当前IO的线程进行服务。所以IO会降低程序运行的效率。"
   ]
  },
  {
   "cell_type": "markdown",
   "metadata": {},
   "source": [
    "# 协程"
   ]
  },
  {
   "cell_type": "markdown",
   "metadata": {},
   "source": [
    "# 简介"
   ]
  },
  {
   "cell_type": "markdown",
   "metadata": {},
   "source": [
    "在遇到IO时，不让其在那里干等着，让其找点活干。\n",
    "\n",
    "在找到活中又遇到IO时，再去找另一个活，不能让其闲着。"
   ]
  },
  {
   "cell_type": "markdown",
   "metadata": {},
   "source": [
    "反复切换任务，就叫做协程。协程就一个线程，在运行过程中，一个任务遇到了IO，就让其在一边待着等待，切换到下一个任务执行，指导该任务运行结束或者遇到IO了再切换下一个任务。在整个线程中不会存在等待IO(线程不会再摸鱼了)，有的只是任务的执行和任务的切换。"
   ]
  },
  {
   "cell_type": "markdown",
   "metadata": {},
   "source": [
    "适用协程的场景（此时协程才会发挥最大的作用）：\n",
    "- 当程序中有阻塞，IO，文件读写，发送请求等待响应的时候。\n"
   ]
  },
  {
   "cell_type": "markdown",
   "metadata": {},
   "source": [
    "## 事件循环"
   ]
  },
  {
   "cell_type": "markdown",
   "metadata": {},
   "source": [
    "任务什么时候切换？切换到哪一个任务？这个由谁来完成？\n",
    "- 答：需要有一个巡逻的人，挨个观察每个任务的状态，发现任务阻塞结束了（就可以继续执行了），发现当前任务阻塞了就找到下一个任务继续执行。该巡逻的人就是事件循环。"
   ]
  },
  {
   "cell_type": "markdown",
   "metadata": {},
   "source": [
    "## 基本语法"
   ]
  },
  {
   "cell_type": "markdown",
   "metadata": {},
   "source": [
    "协程函数定义\n",
    "```python\n",
    "async def work():\n",
    "    print(\"开始任务\")\n",
    "\n",
    "```"
   ]
  },
  {
   "cell_type": "markdown",
   "metadata": {},
   "source": [
    "协程函数调用\n",
    "- 协程函数加括号之后，产生的是一个协程对象。\n",
    "\n",
    "执行函数的固定逻辑：\n",
    "1. 创建好协程对象\n",
    "2. 用asyncio包来运行该对象\n",
    "\n",
    "```python\n",
    "import asyncio\n",
    "f = work()  # work()返回协程对象\n",
    "\n",
    "# 运行方案1\n",
    "# asyncio.run(f)  # 在windows中容易出现\"Event  is Closed\"的bug\n",
    "\n",
    "# 运行方案2\n",
    "# 获取一个事件循环的东西\n",
    "event_loop = asyncio.get_event_loop()  # 创建事件循环\n",
    "event_loop.run_until_complete(f)  # 运行协程对象直到结束\n",
    "\n",
    "```"
   ]
  },
  {
   "cell_type": "markdown",
   "metadata": {},
   "source": [
    "## 使用协程"
   ]
  },
  {
   "cell_type": "markdown",
   "metadata": {},
   "source": [
    "基本的语法规则\n",
    "- main中写的代码只能在main中写，不能写到`__main__`中"
   ]
  },
  {
   "cell_type": "markdown",
   "metadata": {},
   "source": [
    "```python\n",
    "import asyncio\n",
    "import time\n",
    "\n",
    "\n",
    "# 创建三个协程函数，任务\n",
    "async def func1():\n",
    "    print(\"我是func1,开始了\")\n",
    "    # 这里不能用time.sleep().因为sleep不支持协程\n",
    "    await asyncio.sleep(3)  # 睡三秒\n",
    "    # await 挂起，等，等带结束，回到这里继续执行\n",
    "    print(\"我是func1,结束了\")\n",
    "\n",
    "\n",
    "async def func2():\n",
    "    print(\"我是func2,开始了\")\n",
    "    await asyncio.sleep(5)  # 睡5秒\n",
    "    print(\"我是func2,结束了\")\n",
    "\n",
    "\n",
    "async def func3():\n",
    "    print(\"我是func3,开始了\")\n",
    "    await asyncio.sleep(2)  # 睡2秒\n",
    "    print(\"我是func3,结束了\")\n",
    "\n",
    "\n",
    "async def main():\n",
    "    # 拿到三个协程对象\n",
    "    f1 = func1()\n",
    "    f2 = func2()\n",
    "    f3 = func3()\n",
    "\n",
    "    # 把三个协程对象都封装成任务对象\n",
    "    t1 = asyncio.create_task(f1)  # 创建任务对象\n",
    "    t2 = asyncio.create_task(f2)  # create_task和ensure_future是一样的，不过create_task更底层一些。\n",
    "    t3 = asyncio.create_task(f3)\n",
    "\n",
    "    # 等待三个任务结束\n",
    "    tasks = [t1, t2, t3]\n",
    "    # await 叫挂起 => 拉出来放外面等着去，等着完事了再回来，继续向下执行\n",
    "    await asyncio.wait(tasks)\n",
    "    print('end')\n",
    "\n",
    "\n",
    "if __name__ == '__main__':\n",
    "    s1 = time.time()\n",
    "    asyncio.run(main())\n",
    "    s2 = time.time()\n",
    "\n",
    "    print('total time: ', s2 - s1)  # 总耗时是5秒，是耗时事件最长的任务的时间，等待的任务都是一起在等。\n",
    "\n",
    "\n",
    "```"
   ]
  },
  {
   "attachments": {
    "image-2.png": {
     "image/png": "[encoded data removed]"
    }
   },
   "cell_type": "markdown",
   "metadata": {},
   "source": [
    "![image-2.png](attachment:image-2.png)"
   ]
  }
 ],
 "metadata": {
  "kernelspec": {
   "display_name": "Python 3",
   "language": "python",
   "name": "python3"
  },
  "language_info": {
   "codemirror_mode": {
    "name": "ipython",
    "version": 3
   },
   "file_extension": ".py",
   "mimetype": "text/x-python",
   "name": "python",
   "nbconvert_exporter": "python",
   "pygments_lexer": "ipython3",
   "version": "3.8.5"
  }
 },
 "nbformat": 4,
 "nbformat_minor": 4
}
